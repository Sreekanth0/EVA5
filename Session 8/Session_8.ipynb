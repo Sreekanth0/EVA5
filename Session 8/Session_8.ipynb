{
  "nbformat": 4,
  "nbformat_minor": 0,
  "metadata": {
    "accelerator": "GPU",
    "colab": {
      "name": "Session_8.ipynb",
      "provenance": [],
      "collapsed_sections": [],
      "toc_visible": true
    },
    "kernelspec": {
      "display_name": "Python 3",
      "language": "python",
      "name": "python3"
    },
    "language_info": {
      "codemirror_mode": {
        "name": "ipython",
        "version": 3
      },
      "file_extension": ".py",
      "mimetype": "text/x-python",
      "name": "python",
      "nbconvert_exporter": "python",
      "pygments_lexer": "ipython3",
      "version": "3.7.6"
    },
    "widgets": {
      "application/vnd.jupyter.widget-state+json": {
        "adbc6e13984247c7bee9a3eb15d23884": {
          "model_module": "@jupyter-widgets/controls",
          "model_name": "HBoxModel",
          "state": {
            "_view_name": "HBoxView",
            "_dom_classes": [],
            "_model_name": "HBoxModel",
            "_view_module": "@jupyter-widgets/controls",
            "_model_module_version": "1.5.0",
            "_view_count": null,
            "_view_module_version": "1.5.0",
            "box_style": "",
            "layout": "IPY_MODEL_14a2016dc9b446af9c0f1a812e98aca4",
            "_model_module": "@jupyter-widgets/controls",
            "children": [
              "IPY_MODEL_ba0a215bd78b4752809fe0b78364598f",
              "IPY_MODEL_7c46ceaf8f6749899561729def570604"
            ]
          }
        },
        "14a2016dc9b446af9c0f1a812e98aca4": {
          "model_module": "@jupyter-widgets/base",
          "model_name": "LayoutModel",
          "state": {
            "_view_name": "LayoutView",
            "grid_template_rows": null,
            "right": null,
            "justify_content": null,
            "_view_module": "@jupyter-widgets/base",
            "overflow": null,
            "_model_module_version": "1.2.0",
            "_view_count": null,
            "flex_flow": null,
            "width": null,
            "min_width": null,
            "border": null,
            "align_items": null,
            "bottom": null,
            "_model_module": "@jupyter-widgets/base",
            "top": null,
            "grid_column": null,
            "overflow_y": null,
            "overflow_x": null,
            "grid_auto_flow": null,
            "grid_area": null,
            "grid_template_columns": null,
            "flex": null,
            "_model_name": "LayoutModel",
            "justify_items": null,
            "grid_row": null,
            "max_height": null,
            "align_content": null,
            "visibility": null,
            "align_self": null,
            "height": null,
            "min_height": null,
            "padding": null,
            "grid_auto_rows": null,
            "grid_gap": null,
            "max_width": null,
            "order": null,
            "_view_module_version": "1.2.0",
            "grid_template_areas": null,
            "object_position": null,
            "object_fit": null,
            "grid_auto_columns": null,
            "margin": null,
            "display": null,
            "left": null
          }
        },
        "ba0a215bd78b4752809fe0b78364598f": {
          "model_module": "@jupyter-widgets/controls",
          "model_name": "FloatProgressModel",
          "state": {
            "_view_name": "ProgressView",
            "style": "IPY_MODEL_546b84b89eb2488fa8850b8289a7111f",
            "_dom_classes": [],
            "description": "",
            "_model_name": "FloatProgressModel",
            "bar_style": "info",
            "max": 1,
            "_view_module": "@jupyter-widgets/controls",
            "_model_module_version": "1.5.0",
            "value": 1,
            "_view_count": null,
            "_view_module_version": "1.5.0",
            "orientation": "horizontal",
            "min": 0,
            "description_tooltip": null,
            "_model_module": "@jupyter-widgets/controls",
            "layout": "IPY_MODEL_8945cad0eeff456785993703671903a8"
          }
        },
        "7c46ceaf8f6749899561729def570604": {
          "model_module": "@jupyter-widgets/controls",
          "model_name": "HTMLModel",
          "state": {
            "_view_name": "HTMLView",
            "style": "IPY_MODEL_eb8bf6c60e114abca0eb31afeac04a6d",
            "_dom_classes": [],
            "description": "",
            "_model_name": "HTMLModel",
            "placeholder": "​",
            "_view_module": "@jupyter-widgets/controls",
            "_model_module_version": "1.5.0",
            "value": " 170500096/? [00:20&lt;00:00, 81439851.13it/s]",
            "_view_count": null,
            "_view_module_version": "1.5.0",
            "description_tooltip": null,
            "_model_module": "@jupyter-widgets/controls",
            "layout": "IPY_MODEL_75e7778e4c9e40a49a26f3e344f467ef"
          }
        },
        "546b84b89eb2488fa8850b8289a7111f": {
          "model_module": "@jupyter-widgets/controls",
          "model_name": "ProgressStyleModel",
          "state": {
            "_view_name": "StyleView",
            "_model_name": "ProgressStyleModel",
            "description_width": "initial",
            "_view_module": "@jupyter-widgets/base",
            "_model_module_version": "1.5.0",
            "_view_count": null,
            "_view_module_version": "1.2.0",
            "bar_color": null,
            "_model_module": "@jupyter-widgets/controls"
          }
        },
        "8945cad0eeff456785993703671903a8": {
          "model_module": "@jupyter-widgets/base",
          "model_name": "LayoutModel",
          "state": {
            "_view_name": "LayoutView",
            "grid_template_rows": null,
            "right": null,
            "justify_content": null,
            "_view_module": "@jupyter-widgets/base",
            "overflow": null,
            "_model_module_version": "1.2.0",
            "_view_count": null,
            "flex_flow": null,
            "width": null,
            "min_width": null,
            "border": null,
            "align_items": null,
            "bottom": null,
            "_model_module": "@jupyter-widgets/base",
            "top": null,
            "grid_column": null,
            "overflow_y": null,
            "overflow_x": null,
            "grid_auto_flow": null,
            "grid_area": null,
            "grid_template_columns": null,
            "flex": null,
            "_model_name": "LayoutModel",
            "justify_items": null,
            "grid_row": null,
            "max_height": null,
            "align_content": null,
            "visibility": null,
            "align_self": null,
            "height": null,
            "min_height": null,
            "padding": null,
            "grid_auto_rows": null,
            "grid_gap": null,
            "max_width": null,
            "order": null,
            "_view_module_version": "1.2.0",
            "grid_template_areas": null,
            "object_position": null,
            "object_fit": null,
            "grid_auto_columns": null,
            "margin": null,
            "display": null,
            "left": null
          }
        },
        "eb8bf6c60e114abca0eb31afeac04a6d": {
          "model_module": "@jupyter-widgets/controls",
          "model_name": "DescriptionStyleModel",
          "state": {
            "_view_name": "StyleView",
            "_model_name": "DescriptionStyleModel",
            "description_width": "",
            "_view_module": "@jupyter-widgets/base",
            "_model_module_version": "1.5.0",
            "_view_count": null,
            "_view_module_version": "1.2.0",
            "_model_module": "@jupyter-widgets/controls"
          }
        },
        "75e7778e4c9e40a49a26f3e344f467ef": {
          "model_module": "@jupyter-widgets/base",
          "model_name": "LayoutModel",
          "state": {
            "_view_name": "LayoutView",
            "grid_template_rows": null,
            "right": null,
            "justify_content": null,
            "_view_module": "@jupyter-widgets/base",
            "overflow": null,
            "_model_module_version": "1.2.0",
            "_view_count": null,
            "flex_flow": null,
            "width": null,
            "min_width": null,
            "border": null,
            "align_items": null,
            "bottom": null,
            "_model_module": "@jupyter-widgets/base",
            "top": null,
            "grid_column": null,
            "overflow_y": null,
            "overflow_x": null,
            "grid_auto_flow": null,
            "grid_area": null,
            "grid_template_columns": null,
            "flex": null,
            "_model_name": "LayoutModel",
            "justify_items": null,
            "grid_row": null,
            "max_height": null,
            "align_content": null,
            "visibility": null,
            "align_self": null,
            "height": null,
            "min_height": null,
            "padding": null,
            "grid_auto_rows": null,
            "grid_gap": null,
            "max_width": null,
            "order": null,
            "_view_module_version": "1.2.0",
            "grid_template_areas": null,
            "object_position": null,
            "object_fit": null,
            "grid_auto_columns": null,
            "margin": null,
            "display": null,
            "left": null
          }
        }
      }
    }
  },
  "cells": [
    {
      "cell_type": "markdown",
      "metadata": {
        "colab_type": "text",
        "id": "oq1HF81bLtUY"
      },
      "source": [
        "### Installing the Package"
      ]
    },
    {
      "cell_type": "code",
      "metadata": {
        "colab_type": "code",
        "id": "ZI2V7buoHuPI",
        "colab": {
          "base_uri": "https://localhost:8080/",
          "height": 776
        },
        "outputId": "ded0add4-2b41-46fd-a4ef-b92f06648ce4"
      },
      "source": [
        "!pip install git+https://github.com/firekind/athena@v0.0.1"
      ],
      "execution_count": 1,
      "outputs": [
        {
          "output_type": "stream",
          "text": [
            "Collecting git+https://github.com/firekind/athena@v0.0.1\n",
            "  Cloning https://github.com/firekind/athena (to revision v0.0.1) to /tmp/pip-req-build-28wurhzt\n",
            "  Running command git clone -q https://github.com/firekind/athena /tmp/pip-req-build-28wurhzt\n",
            "  Running command git checkout -q 76f26a105635a8dedade28cf37be0c051bd5ddc4\n",
            "Requirement already satisfied: torchsummary in /usr/local/lib/python3.6/dist-packages (from athena==0.0.1) (1.5.1)\n",
            "Requirement already satisfied: tqdm in /usr/local/lib/python3.6/dist-packages (from athena==0.0.1) (4.41.1)\n",
            "Requirement already satisfied: matplotlib in /usr/local/lib/python3.6/dist-packages (from athena==0.0.1) (3.2.2)\n",
            "Requirement already satisfied: tensorboard in /usr/local/lib/python3.6/dist-packages (from athena==0.0.1) (2.3.0)\n",
            "Requirement already satisfied: cycler>=0.10 in /usr/local/lib/python3.6/dist-packages (from matplotlib->athena==0.0.1) (0.10.0)\n",
            "Requirement already satisfied: kiwisolver>=1.0.1 in /usr/local/lib/python3.6/dist-packages (from matplotlib->athena==0.0.1) (1.2.0)\n",
            "Requirement already satisfied: python-dateutil>=2.1 in /usr/local/lib/python3.6/dist-packages (from matplotlib->athena==0.0.1) (2.8.1)\n",
            "Requirement already satisfied: numpy>=1.11 in /usr/local/lib/python3.6/dist-packages (from matplotlib->athena==0.0.1) (1.18.5)\n",
            "Requirement already satisfied: pyparsing!=2.0.4,!=2.1.2,!=2.1.6,>=2.0.1 in /usr/local/lib/python3.6/dist-packages (from matplotlib->athena==0.0.1) (2.4.7)\n",
            "Requirement already satisfied: setuptools>=41.0.0 in /usr/local/lib/python3.6/dist-packages (from tensorboard->athena==0.0.1) (50.3.0)\n",
            "Requirement already satisfied: tensorboard-plugin-wit>=1.6.0 in /usr/local/lib/python3.6/dist-packages (from tensorboard->athena==0.0.1) (1.7.0)\n",
            "Requirement already satisfied: absl-py>=0.4 in /usr/local/lib/python3.6/dist-packages (from tensorboard->athena==0.0.1) (0.10.0)\n",
            "Requirement already satisfied: requests<3,>=2.21.0 in /usr/local/lib/python3.6/dist-packages (from tensorboard->athena==0.0.1) (2.23.0)\n",
            "Requirement already satisfied: markdown>=2.6.8 in /usr/local/lib/python3.6/dist-packages (from tensorboard->athena==0.0.1) (3.2.2)\n",
            "Requirement already satisfied: grpcio>=1.24.3 in /usr/local/lib/python3.6/dist-packages (from tensorboard->athena==0.0.1) (1.32.0)\n",
            "Requirement already satisfied: six>=1.10.0 in /usr/local/lib/python3.6/dist-packages (from tensorboard->athena==0.0.1) (1.15.0)\n",
            "Requirement already satisfied: wheel>=0.26; python_version >= \"3\" in /usr/local/lib/python3.6/dist-packages (from tensorboard->athena==0.0.1) (0.35.1)\n",
            "Requirement already satisfied: google-auth<2,>=1.6.3 in /usr/local/lib/python3.6/dist-packages (from tensorboard->athena==0.0.1) (1.17.2)\n",
            "Requirement already satisfied: google-auth-oauthlib<0.5,>=0.4.1 in /usr/local/lib/python3.6/dist-packages (from tensorboard->athena==0.0.1) (0.4.1)\n",
            "Requirement already satisfied: protobuf>=3.6.0 in /usr/local/lib/python3.6/dist-packages (from tensorboard->athena==0.0.1) (3.12.4)\n",
            "Requirement already satisfied: werkzeug>=0.11.15 in /usr/local/lib/python3.6/dist-packages (from tensorboard->athena==0.0.1) (1.0.1)\n",
            "Requirement already satisfied: idna<3,>=2.5 in /usr/local/lib/python3.6/dist-packages (from requests<3,>=2.21.0->tensorboard->athena==0.0.1) (2.10)\n",
            "Requirement already satisfied: urllib3!=1.25.0,!=1.25.1,<1.26,>=1.21.1 in /usr/local/lib/python3.6/dist-packages (from requests<3,>=2.21.0->tensorboard->athena==0.0.1) (1.24.3)\n",
            "Requirement already satisfied: certifi>=2017.4.17 in /usr/local/lib/python3.6/dist-packages (from requests<3,>=2.21.0->tensorboard->athena==0.0.1) (2020.6.20)\n",
            "Requirement already satisfied: chardet<4,>=3.0.2 in /usr/local/lib/python3.6/dist-packages (from requests<3,>=2.21.0->tensorboard->athena==0.0.1) (3.0.4)\n",
            "Requirement already satisfied: importlib-metadata; python_version < \"3.8\" in /usr/local/lib/python3.6/dist-packages (from markdown>=2.6.8->tensorboard->athena==0.0.1) (1.7.0)\n",
            "Requirement already satisfied: pyasn1-modules>=0.2.1 in /usr/local/lib/python3.6/dist-packages (from google-auth<2,>=1.6.3->tensorboard->athena==0.0.1) (0.2.8)\n",
            "Requirement already satisfied: cachetools<5.0,>=2.0.0 in /usr/local/lib/python3.6/dist-packages (from google-auth<2,>=1.6.3->tensorboard->athena==0.0.1) (4.1.1)\n",
            "Requirement already satisfied: rsa<5,>=3.1.4; python_version >= \"3\" in /usr/local/lib/python3.6/dist-packages (from google-auth<2,>=1.6.3->tensorboard->athena==0.0.1) (4.6)\n",
            "Requirement already satisfied: requests-oauthlib>=0.7.0 in /usr/local/lib/python3.6/dist-packages (from google-auth-oauthlib<0.5,>=0.4.1->tensorboard->athena==0.0.1) (1.3.0)\n",
            "Requirement already satisfied: zipp>=0.5 in /usr/local/lib/python3.6/dist-packages (from importlib-metadata; python_version < \"3.8\"->markdown>=2.6.8->tensorboard->athena==0.0.1) (3.1.0)\n",
            "Requirement already satisfied: pyasn1<0.5.0,>=0.4.6 in /usr/local/lib/python3.6/dist-packages (from pyasn1-modules>=0.2.1->google-auth<2,>=1.6.3->tensorboard->athena==0.0.1) (0.4.8)\n",
            "Requirement already satisfied: oauthlib>=3.0.0 in /usr/local/lib/python3.6/dist-packages (from requests-oauthlib>=0.7.0->google-auth-oauthlib<0.5,>=0.4.1->tensorboard->athena==0.0.1) (3.1.0)\n",
            "Building wheels for collected packages: athena\n",
            "  Building wheel for athena (setup.py) ... \u001b[?25l\u001b[?25hdone\n",
            "  Created wheel for athena: filename=athena-0.0.1-cp36-none-any.whl size=29405 sha256=de9db209b0aadf25c245d45726c7788b5a9237bd004faf6b9bbed7daac0e3fb1\n",
            "  Stored in directory: /tmp/pip-ephem-wheel-cache-st01jtb7/wheels/c6/98/d8/85f5f37d92af24edb6c8b143a23751e6034a2c173665356fed\n",
            "Successfully built athena\n",
            "Installing collected packages: athena\n",
            "Successfully installed athena-0.0.1\n"
          ],
          "name": "stdout"
        }
      ]
    },
    {
      "cell_type": "markdown",
      "metadata": {
        "colab_type": "text",
        "id": "1o6Pdw42L_H-"
      },
      "source": [
        "#### Importing Model & required libraries"
      ]
    },
    {
      "cell_type": "code",
      "metadata": {
        "colab_type": "code",
        "id": "n5bO9oYIH_bb",
        "colab": {}
      },
      "source": [
        "import torch.optim as optim\n",
        "import torch\n",
        "import torchvision\n",
        "import torchvision.transforms as transforms\n",
        "from torchsummary import summary\n",
        "import torch.nn as nn\n",
        "import torch.nn.functional as F\n",
        "from torch.optim.lr_scheduler import StepLR, OneCycleLR\n",
        "\n",
        "from athena import datasets, Experiment, ClassificationSolver\n",
        "from athena.models import ResNet18"
      ],
      "execution_count": 2,
      "outputs": []
    },
    {
      "cell_type": "code",
      "metadata": {
        "colab_type": "code",
        "id": "sAZqlsULRr13",
        "colab": {}
      },
      "source": [
        "from athena.utils.functions import plot_experiments"
      ],
      "execution_count": 3,
      "outputs": []
    },
    {
      "cell_type": "code",
      "metadata": {
        "colab_type": "code",
        "id": "g8FA0QAvRSnU",
        "colab": {
          "base_uri": "https://localhost:8080/",
          "height": 34
        },
        "outputId": "86306d3f-6d10-4c02-b13c-ddbb8d879222"
      },
      "source": [
        "device = torch.device('cuda' if torch.cuda.is_available() else 'cpu')\n",
        "print(device)\n",
        "\n",
        "batch_size = 128 if device == 'cuda' else 64\n",
        "epochs = 50"
      ],
      "execution_count": 4,
      "outputs": [
        {
          "output_type": "stream",
          "text": [
            "cuda\n"
          ],
          "name": "stdout"
        }
      ]
    },
    {
      "cell_type": "markdown",
      "metadata": {
        "colab_type": "text",
        "id": "5kjt4e2TpoCk"
      },
      "source": [
        "#### importing cifar10 dataset using transforms\n",
        "\n"
      ]
    },
    {
      "cell_type": "code",
      "metadata": {
        "colab_type": "code",
        "id": "D8Tjigo2poCl",
        "colab": {
          "base_uri": "https://localhost:8080/",
          "height": 99,
          "referenced_widgets": [
            "adbc6e13984247c7bee9a3eb15d23884",
            "14a2016dc9b446af9c0f1a812e98aca4",
            "ba0a215bd78b4752809fe0b78364598f",
            "7c46ceaf8f6749899561729def570604",
            "546b84b89eb2488fa8850b8289a7111f",
            "8945cad0eeff456785993703671903a8",
            "eb8bf6c60e114abca0eb31afeac04a6d",
            "75e7778e4c9e40a49a26f3e344f467ef"
          ]
        },
        "outputId": "cdd25ecf-b0e4-4e43-a55c-ff9add84bf6a"
      },
      "source": [
        "train_loader = datasets.cifar10(download=True, batch_size=batch_size, use_default_transforms=True)\n",
        "test_loader = datasets.cifar10(train=False, download=True, batch_size=batch_size, use_default_transforms=True)"
      ],
      "execution_count": 5,
      "outputs": [
        {
          "output_type": "stream",
          "text": [
            "Downloading https://www.cs.toronto.edu/~kriz/cifar-10-python.tar.gz to ./data/cifar-10-python.tar.gz\n"
          ],
          "name": "stdout"
        },
        {
          "output_type": "display_data",
          "data": {
            "application/vnd.jupyter.widget-view+json": {
              "model_id": "adbc6e13984247c7bee9a3eb15d23884",
              "version_minor": 0,
              "version_major": 2
            },
            "text/plain": [
              "HBox(children=(FloatProgress(value=1.0, bar_style='info', max=1.0), HTML(value='')))"
            ]
          },
          "metadata": {
            "tags": []
          }
        },
        {
          "output_type": "stream",
          "text": [
            "Extracting ./data/cifar-10-python.tar.gz to ./data\n",
            "Files already downloaded and verified\n"
          ],
          "name": "stdout"
        }
      ]
    },
    {
      "cell_type": "code",
      "metadata": {
        "colab_type": "code",
        "id": "kj-XLXSOGry1",
        "colab": {
          "base_uri": "https://localhost:8080/",
          "height": 1000
        },
        "outputId": "59c99d58-c706-4cdc-9acc-a3c4f117c4fc"
      },
      "source": [
        "net = ResNet18().to(device)\n",
        "\n",
        "summary(net, input_size=(3, 32, 32))"
      ],
      "execution_count": 6,
      "outputs": [
        {
          "output_type": "stream",
          "text": [
            "----------------------------------------------------------------\n",
            "        Layer (type)               Output Shape         Param #\n",
            "================================================================\n",
            "            Conv2d-1           [-1, 64, 32, 32]           1,728\n",
            "       BatchNorm2d-2           [-1, 64, 32, 32]             128\n",
            "            Conv2d-3           [-1, 64, 32, 32]          36,864\n",
            "       BatchNorm2d-4           [-1, 64, 32, 32]             128\n",
            "            Conv2d-5           [-1, 64, 32, 32]          36,864\n",
            "       BatchNorm2d-6           [-1, 64, 32, 32]             128\n",
            "        BasicBlock-7           [-1, 64, 32, 32]               0\n",
            "            Conv2d-8           [-1, 64, 32, 32]          36,864\n",
            "       BatchNorm2d-9           [-1, 64, 32, 32]             128\n",
            "           Conv2d-10           [-1, 64, 32, 32]          36,864\n",
            "      BatchNorm2d-11           [-1, 64, 32, 32]             128\n",
            "       BasicBlock-12           [-1, 64, 32, 32]               0\n",
            "           Conv2d-13          [-1, 128, 16, 16]          73,728\n",
            "      BatchNorm2d-14          [-1, 128, 16, 16]             256\n",
            "           Conv2d-15          [-1, 128, 16, 16]         147,456\n",
            "      BatchNorm2d-16          [-1, 128, 16, 16]             256\n",
            "           Conv2d-17          [-1, 128, 16, 16]           8,192\n",
            "      BatchNorm2d-18          [-1, 128, 16, 16]             256\n",
            "       BasicBlock-19          [-1, 128, 16, 16]               0\n",
            "           Conv2d-20          [-1, 128, 16, 16]         147,456\n",
            "      BatchNorm2d-21          [-1, 128, 16, 16]             256\n",
            "           Conv2d-22          [-1, 128, 16, 16]         147,456\n",
            "      BatchNorm2d-23          [-1, 128, 16, 16]             256\n",
            "       BasicBlock-24          [-1, 128, 16, 16]               0\n",
            "           Conv2d-25            [-1, 256, 8, 8]         294,912\n",
            "      BatchNorm2d-26            [-1, 256, 8, 8]             512\n",
            "           Conv2d-27            [-1, 256, 8, 8]         589,824\n",
            "      BatchNorm2d-28            [-1, 256, 8, 8]             512\n",
            "           Conv2d-29            [-1, 256, 8, 8]          32,768\n",
            "      BatchNorm2d-30            [-1, 256, 8, 8]             512\n",
            "       BasicBlock-31            [-1, 256, 8, 8]               0\n",
            "           Conv2d-32            [-1, 256, 8, 8]         589,824\n",
            "      BatchNorm2d-33            [-1, 256, 8, 8]             512\n",
            "           Conv2d-34            [-1, 256, 8, 8]         589,824\n",
            "      BatchNorm2d-35            [-1, 256, 8, 8]             512\n",
            "       BasicBlock-36            [-1, 256, 8, 8]               0\n",
            "           Conv2d-37            [-1, 512, 4, 4]       1,179,648\n",
            "      BatchNorm2d-38            [-1, 512, 4, 4]           1,024\n",
            "           Conv2d-39            [-1, 512, 4, 4]       2,359,296\n",
            "      BatchNorm2d-40            [-1, 512, 4, 4]           1,024\n",
            "           Conv2d-41            [-1, 512, 4, 4]         131,072\n",
            "      BatchNorm2d-42            [-1, 512, 4, 4]           1,024\n",
            "       BasicBlock-43            [-1, 512, 4, 4]               0\n",
            "           Conv2d-44            [-1, 512, 4, 4]       2,359,296\n",
            "      BatchNorm2d-45            [-1, 512, 4, 4]           1,024\n",
            "           Conv2d-46            [-1, 512, 4, 4]       2,359,296\n",
            "      BatchNorm2d-47            [-1, 512, 4, 4]           1,024\n",
            "       BasicBlock-48            [-1, 512, 4, 4]               0\n",
            "           Linear-49                   [-1, 10]           5,130\n",
            "================================================================\n",
            "Total params: 11,173,962\n",
            "Trainable params: 11,173,962\n",
            "Non-trainable params: 0\n",
            "----------------------------------------------------------------\n",
            "Input size (MB): 0.01\n",
            "Forward/backward pass size (MB): 11.25\n",
            "Params size (MB): 42.63\n",
            "Estimated Total Size (MB): 53.89\n",
            "----------------------------------------------------------------\n"
          ],
          "name": "stdout"
        }
      ]
    },
    {
      "cell_type": "code",
      "metadata": {
        "colab_type": "code",
        "id": "CYw7zbpyCH7W",
        "colab": {}
      },
      "source": [
        "def custom_loss_fn(y_pred, y_true):\n",
        "   y_pred = F.log_softmax(y_pred, dim=-1)\n",
        "   return F.nll_loss(y_pred, y_true)"
      ],
      "execution_count": 7,
      "outputs": []
    },
    {
      "cell_type": "markdown",
      "metadata": {
        "colab_type": "text",
        "id": "t2nTTTssMUeK"
      },
      "source": [
        "#### Running the model"
      ]
    },
    {
      "cell_type": "code",
      "metadata": {
        "colab_type": "code",
        "id": "uexvqIhHwNqU",
        "colab": {
          "base_uri": "https://localhost:8080/",
          "height": 1000
        },
        "outputId": "796caa74-518c-407b-f342-097d5007d28e"
      },
      "source": [
        "# creating the experiment\n",
        "exp = (\n",
        "    Experiment(\"New Resnet 18 Model\")\n",
        "    .model(net)\n",
        "    .solver(ClassificationSolver)\n",
        "    .optimizer(optim.SGD, lr=0.01, momentum=0.9)\n",
        "    .scheduler(StepLR, step_size=8, gamma=0.1)\n",
        "    .epochs(50)\n",
        "    .train_loader(train_loader)\n",
        "    .test_loader(test_loader)\n",
        "    .loss_fn(custom_loss_fn)\n",
        "    .device(device)\n",
        "    .build()\n",
        ")\n",
        "\n",
        "# running experiment\n",
        "exp.run()"
      ],
      "execution_count": null,
      "outputs": [
        {
          "output_type": "stream",
          "text": [
            "\u001b[1m\u001b[92m=> Running experiment: New Resnet 18 Model\u001b[0m\n",
            "Epoch: 1 / 50\n",
            "782/782 [==============================] - 66s 85ms/step - loss: 1.2984 - accuracy: 53.3640\n",
            "Test set: Average loss: 0.8902, Accuracy: 6788/10000 (67.88%)\n",
            "\n",
            "Epoch: 2 / 50\n",
            "782/782 [==============================] - 66s 85ms/step - loss: 0.7485 - accuracy: 73.7660\n",
            "Test set: Average loss: 0.7033, Accuracy: 7547/10000 (75.47%)\n",
            "\n",
            "Epoch: 3 / 50\n",
            "782/782 [==============================] - 67s 85ms/step - loss: 0.5389 - accuracy: 81.2500\n",
            "Test set: Average loss: 0.6172, Accuracy: 7914/10000 (79.14%)\n",
            "\n",
            "Epoch: 4 / 50\n",
            "782/782 [==============================] - 67s 85ms/step - loss: 0.4019 - accuracy: 85.9720\n",
            "Test set: Average loss: 0.8227, Accuracy: 7485/10000 (74.85%)\n",
            "\n",
            "Epoch: 5 / 50\n",
            "782/782 [==============================] - 67s 86ms/step - loss: 0.2875 - accuracy: 89.8360\n",
            "Test set: Average loss: 0.6854, Accuracy: 7959/10000 (79.59%)\n",
            "\n",
            "Epoch: 6 / 50\n",
            "782/782 [==============================] - 67s 85ms/step - loss: 0.2042 - accuracy: 92.7220\n",
            "Test set: Average loss: 0.8105, Accuracy: 7851/10000 (78.51%)\n",
            "\n",
            "Epoch: 7 / 50\n",
            "782/782 [==============================] - 67s 85ms/step - loss: 0.1431 - accuracy: 94.8660\n",
            "Test set: Average loss: 0.7266, Accuracy: 8068/10000 (80.68%)\n",
            "\n",
            "Epoch: 8 / 50\n",
            "782/782 [==============================] - 67s 85ms/step - loss: 0.1052 - accuracy: 96.3080\n",
            "Test set: Average loss: 0.8012, Accuracy: 8075/10000 (80.75%)\n",
            "\n",
            "Epoch: 9 / 50\n",
            "782/782 [==============================] - 67s 85ms/step - loss: 0.0316 - accuracy: 99.0360\n",
            "Test set: Average loss: 0.5845, Accuracy: 8489/10000 (84.89%)\n",
            "\n",
            "Epoch: 10 / 50\n",
            "782/782 [==============================] - 67s 85ms/step - loss: 0.0118 - accuracy: 99.8340\n",
            "Test set: Average loss: 0.5898, Accuracy: 8504/10000 (85.04%)\n",
            "\n",
            "Epoch: 11 / 50\n",
            "782/782 [==============================] - 67s 85ms/step - loss: 0.0082 - accuracy: 99.9260\n",
            "Test set: Average loss: 0.6016, Accuracy: 8503/10000 (85.03%)\n",
            "\n",
            "Epoch: 12 / 50\n",
            "782/782 [==============================] - 67s 85ms/step - loss: 0.0061 - accuracy: 99.9680\n",
            "Test set: Average loss: 0.6107, Accuracy: 8532/10000 (85.32%)\n",
            "\n",
            "Epoch: 13 / 50\n",
            "782/782 [==============================] - 67s 85ms/step - loss: 0.0048 - accuracy: 99.9820\n",
            "Test set: Average loss: 0.6209, Accuracy: 8507/10000 (85.07%)\n",
            "\n",
            "Epoch: 14 / 50\n",
            "782/782 [==============================] - 67s 85ms/step - loss: 0.0040 - accuracy: 99.9840\n",
            "Test set: Average loss: 0.6262, Accuracy: 8529/10000 (85.29%)\n",
            "\n",
            "Epoch: 15 / 50\n",
            "782/782 [==============================] - 67s 85ms/step - loss: 0.0033 - accuracy: 99.9960\n",
            "Test set: Average loss: 0.6263, Accuracy: 8526/10000 (85.26%)\n",
            "\n",
            "Epoch: 16 / 50\n",
            "782/782 [==============================] - 67s 85ms/step - loss: 0.0030 - accuracy: 99.9980\n",
            "Test set: Average loss: 0.6363, Accuracy: 8530/10000 (85.30%)\n",
            "\n",
            "Epoch: 17 / 50\n",
            "782/782 [==============================] - 67s 86ms/step - loss: 0.0027 - accuracy: 99.9920\n",
            "Test set: Average loss: 0.6422, Accuracy: 8531/10000 (85.31%)\n",
            "\n",
            "Epoch: 18 / 50\n",
            "782/782 [==============================] - 67s 86ms/step - loss: 0.0026 - accuracy: 99.9980\n",
            "Test set: Average loss: 0.6385, Accuracy: 8524/10000 (85.24%)\n",
            "\n",
            "Epoch: 19 / 50\n",
            "782/782 [==============================] - 67s 86ms/step - loss: 0.0026 - accuracy: 99.9900\n",
            "Test set: Average loss: 0.6414, Accuracy: 8520/10000 (85.20%)\n",
            "\n",
            "Epoch: 20 / 50\n",
            "782/782 [==============================] - 67s 85ms/step - loss: 0.0025 - accuracy: 99.9980\n",
            "Test set: Average loss: 0.6368, Accuracy: 8528/10000 (85.28%)\n",
            "\n",
            "Epoch: 21 / 50\n",
            "782/782 [==============================] - 67s 85ms/step - loss: 0.0025 - accuracy: 99.9980\n",
            "Test set: Average loss: 0.6508, Accuracy: 8529/10000 (85.29%)\n",
            "\n",
            "Epoch: 22 / 50\n",
            "782/782 [==============================] - 67s 86ms/step - loss: 0.0025 - accuracy: 99.9920\n",
            "Test set: Average loss: 0.6362, Accuracy: 8523/10000 (85.23%)\n",
            "\n",
            "Epoch: 23 / 50\n",
            "782/782 [==============================] - 67s 85ms/step - loss: 0.0025 - accuracy: 99.9960\n",
            "Test set: Average loss: 0.6463, Accuracy: 8531/10000 (85.31%)\n",
            "\n",
            "Epoch: 24 / 50\n",
            "782/782 [==============================] - 67s 85ms/step - loss: 0.0024 - accuracy: 99.9980\n",
            "Test set: Average loss: 0.6301, Accuracy: 8529/10000 (85.29%)\n",
            "\n",
            "Epoch: 25 / 50\n",
            "782/782 [==============================] - 67s 86ms/step - loss: 0.0024 - accuracy: 99.9900\n",
            "Test set: Average loss: 0.6366, Accuracy: 8529/10000 (85.29%)\n",
            "\n",
            "Epoch: 26 / 50\n",
            "782/782 [==============================] - 67s 85ms/step - loss: 0.0024 - accuracy: 100.0000\n",
            "Test set: Average loss: 0.6445, Accuracy: 8527/10000 (85.27%)\n",
            "\n",
            "Epoch: 27 / 50\n",
            "782/782 [==============================] - 67s 85ms/step - loss: 0.0024 - accuracy: 99.9940\n",
            "Test set: Average loss: 0.6367, Accuracy: 8516/10000 (85.16%)\n",
            "\n",
            "Epoch: 28 / 50\n",
            "782/782 [==============================] - 67s 85ms/step - loss: 0.0024 - accuracy: 99.9960\n",
            "Test set: Average loss: 0.6353, Accuracy: 8522/10000 (85.22%)\n",
            "\n",
            "Epoch: 29 / 50\n",
            "782/782 [==============================] - 67s 85ms/step - loss: 0.0024 - accuracy: 100.0000\n",
            "Test set: Average loss: 0.6424, Accuracy: 8536/10000 (85.36%)\n",
            "\n",
            "Epoch: 30 / 50\n",
            "782/782 [==============================] - 67s 85ms/step - loss: 0.0024 - accuracy: 100.0000\n",
            "Test set: Average loss: 0.6358, Accuracy: 8521/10000 (85.21%)\n",
            "\n",
            "Epoch: 31 / 50\n",
            "782/782 [==============================] - 67s 86ms/step - loss: 0.0024 - accuracy: 99.9940\n",
            "Test set: Average loss: 0.6430, Accuracy: 8504/10000 (85.04%)\n",
            "\n",
            "Epoch: 32 / 50\n",
            "782/782 [==============================] - 67s 85ms/step - loss: 0.0025 - accuracy: 99.9960\n",
            "Test set: Average loss: 0.6425, Accuracy: 8529/10000 (85.29%)\n",
            "\n",
            "Epoch: 33 / 50\n",
            "782/782 [==============================] - 67s 85ms/step - loss: 0.0024 - accuracy: 99.9980\n",
            "Test set: Average loss: 0.6361, Accuracy: 8521/10000 (85.21%)\n",
            "\n",
            "Epoch: 34 / 50\n",
            "782/782 [==============================] - 67s 85ms/step - loss: 0.0023 - accuracy: 100.0000\n",
            "Test set: Average loss: 0.6452, Accuracy: 8533/10000 (85.33%)\n",
            "\n",
            "Epoch: 35 / 50\n",
            "782/782 [==============================] - 67s 85ms/step - loss: 0.0024 - accuracy: 99.9960\n",
            "Test set: Average loss: 0.6408, Accuracy: 8520/10000 (85.20%)\n",
            "\n",
            "Epoch: 36 / 50\n",
            "782/782 [==============================] - 67s 85ms/step - loss: 0.0023 - accuracy: 99.9980\n",
            "Test set: Average loss: 0.6413, Accuracy: 8527/10000 (85.27%)\n",
            "\n",
            "Epoch: 37 / 50\n",
            "782/782 [==============================] - 67s 86ms/step - loss: 0.0025 - accuracy: 99.9980\n",
            "Test set: Average loss: 0.6373, Accuracy: 8529/10000 (85.29%)\n",
            "\n",
            "Epoch: 38 / 50\n",
            "782/782 [==============================] - 67s 86ms/step - loss: 0.0023 - accuracy: 99.9940\n",
            "Test set: Average loss: 0.6352, Accuracy: 8525/10000 (85.25%)\n",
            "\n",
            "Epoch: 39 / 50\n",
            "782/782 [==============================] - 67s 86ms/step - loss: 0.0026 - accuracy: 99.9940\n",
            "Test set: Average loss: 0.6409, Accuracy: 8531/10000 (85.31%)\n",
            "\n",
            "Epoch: 40 / 50\n",
            "782/782 [==============================] - 67s 86ms/step - loss: 0.0024 - accuracy: 100.0000\n",
            "Test set: Average loss: 0.6355, Accuracy: 8506/10000 (85.06%)\n",
            "\n",
            "Epoch: 41 / 50\n",
            "782/782 [==============================] - 67s 85ms/step - loss: 0.0024 - accuracy: 100.0000\n",
            "Test set: Average loss: 0.6417, Accuracy: 8528/10000 (85.28%)\n",
            "\n",
            "Epoch: 42 / 50\n",
            "782/782 [==============================] - 67s 85ms/step - loss: 0.0024 - accuracy: 99.9960\n",
            "Test set: Average loss: 0.6385, Accuracy: 8529/10000 (85.29%)\n",
            "\n",
            "Epoch: 43 / 50\n",
            "782/782 [==============================] - 67s 85ms/step - loss: 0.0024 - accuracy: 100.0000\n",
            "Test set: Average loss: 0.6399, Accuracy: 8503/10000 (85.03%)\n",
            "\n",
            "Epoch: 44 / 50\n",
            "782/782 [==============================] - 67s 85ms/step - loss: 0.0026 - accuracy: 99.9940\n",
            "Test set: Average loss: 0.6431, Accuracy: 8520/10000 (85.20%)\n",
            "\n",
            "Epoch: 45 / 50\n",
            "782/782 [==============================] - 67s 85ms/step - loss: 0.0025 - accuracy: 99.9940\n",
            "Test set: Average loss: 0.6396, Accuracy: 8534/10000 (85.34%)\n",
            "\n",
            "Epoch: 46 / 50\n",
            "782/782 [==============================] - 67s 86ms/step - loss: 0.0024 - accuracy: 99.9960\n",
            "Test set: Average loss: 0.6363, Accuracy: 8524/10000 (85.24%)\n",
            "\n",
            "Epoch: 47 / 50\n",
            "782/782 [==============================] - 67s 86ms/step - loss: 0.0024 - accuracy: 99.9980\n",
            "Test set: Average loss: 0.6341, Accuracy: 8536/10000 (85.36%)\n",
            "\n",
            "Epoch: 48 / 50\n",
            "782/782 [==============================] - 67s 86ms/step - loss: 0.0025 - accuracy: 99.9960\n",
            "Test set: Average loss: 0.6462, Accuracy: 8534/10000 (85.34%)\n",
            "\n",
            "Epoch: 49 / 50\n",
            "782/782 [==============================] - 67s 86ms/step - loss: 0.0024 - accuracy: 99.9980\n",
            "Test set: Average loss: 0.6369, Accuracy: 8520/10000 (85.20%)\n",
            "\n",
            "Epoch: 50 / 50\n",
            "782/782 [==============================] - 67s 85ms/step - loss: 0.0024 - accuracy: 100.0000\n",
            "Test set: Average loss: 0.6419, Accuracy: 8510/10000 (85.10%)\n",
            "\n"
          ],
          "name": "stdout"
        }
      ]
    },
    {
      "cell_type": "markdown",
      "metadata": {
        "colab_type": "text",
        "id": "iKqyVncYSBBA"
      },
      "source": [
        "##### Accuracy & Loss Plots for training & testing"
      ]
    },
    {
      "cell_type": "code",
      "metadata": {
        "colab_type": "code",
        "id": "njDRWWh7Rxrh",
        "colab": {
          "base_uri": "https://localhost:8080/",
          "height": 771
        },
        "outputId": "1ebe6667-793a-413a-a270-2f18ba274325"
      },
      "source": [
        "plot_experiments([exp])"
      ],
      "execution_count": null,
      "outputs": [
        {
          "output_type": "display_data",
          "data": {
            "image/png": "[encoded data removed]",
            "text/plain": [
              "<Figure size 1296x936 with 4 Axes>"
            ]
          },
          "metadata": {
            "tags": [],
            "needs_background": "light"
          }
        }
      ]
    },
    {
      "cell_type": "code",
      "metadata": {
        "colab_type": "code",
        "id": "GpiFP73yRyxg",
        "colab": {}
      },
      "source": [
        ""
      ],
      "execution_count": null,
      "outputs": []
    }
  ]
}