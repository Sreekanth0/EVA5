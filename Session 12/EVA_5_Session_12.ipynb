{
  "nbformat": 4,
  "nbformat_minor": 0,
  "metadata": {
    "colab": {
      "name": "EVA 5 Session 12.ipynb",
      "provenance": [],
      "collapsed_sections": []
    },
    "kernelspec": {
      "name": "python3",
      "display_name": "Python 3"
    },
    "accelerator": "GPU",
    "widgets": {
      "application/vnd.jupyter.widget-state+json": {
        "df8df5db160e4374a4539232a63dbd34": {
          "model_module": "@jupyter-widgets/controls",
          "model_name": "HBoxModel",
          "state": {
            "_view_name": "HBoxView",
            "_dom_classes": [],
            "_model_name": "HBoxModel",
            "_view_module": "@jupyter-widgets/controls",
            "_model_module_version": "1.5.0",
            "_view_count": null,
            "_view_module_version": "1.5.0",
            "box_style": "",
            "layout": "IPY_MODEL_a7c4534b9eeb445abd920f9578711b06",
            "_model_module": "@jupyter-widgets/controls",
            "children": [
              "IPY_MODEL_ce4b88c405bb4058abb5db98f0fce354",
              "IPY_MODEL_6bd7a764d84442d59c7c4d959facfd31"
            ]
          }
        },
        "a7c4534b9eeb445abd920f9578711b06": {
          "model_module": "@jupyter-widgets/base",
          "model_name": "LayoutModel",
          "state": {
            "_view_name": "LayoutView",
            "grid_template_rows": null,
            "right": null,
            "justify_content": null,
            "_view_module": "@jupyter-widgets/base",
            "overflow": null,
            "_model_module_version": "1.2.0",
            "_view_count": null,
            "flex_flow": null,
            "width": null,
            "min_width": null,
            "border": null,
            "align_items": null,
            "bottom": null,
            "_model_module": "@jupyter-widgets/base",
            "top": null,
            "grid_column": null,
            "overflow_y": null,
            "overflow_x": null,
            "grid_auto_flow": null,
            "grid_area": null,
            "grid_template_columns": null,
            "flex": null,
            "_model_name": "LayoutModel",
            "justify_items": null,
            "grid_row": null,
            "max_height": null,
            "align_content": null,
            "visibility": null,
            "align_self": null,
            "height": null,
            "min_height": null,
            "padding": null,
            "grid_auto_rows": null,
            "grid_gap": null,
            "max_width": null,
            "order": null,
            "_view_module_version": "1.2.0",
            "grid_template_areas": null,
            "object_position": null,
            "object_fit": null,
            "grid_auto_columns": null,
            "margin": null,
            "display": null,
            "left": null
          }
        },
        "ce4b88c405bb4058abb5db98f0fce354": {
          "model_module": "@jupyter-widgets/controls",
          "model_name": "FloatProgressModel",
          "state": {
            "_view_name": "ProgressView",
            "style": "IPY_MODEL_c1bc3bab95a14e43b59b4dbe47dadc7f",
            "_dom_classes": [],
            "description": "",
            "_model_name": "FloatProgressModel",
            "bar_style": "success",
            "max": 1,
            "_view_module": "@jupyter-widgets/controls",
            "_model_module_version": "1.5.0",
            "value": 1,
            "_view_count": null,
            "_view_module_version": "1.5.0",
            "orientation": "horizontal",
            "min": 0,
            "description_tooltip": null,
            "_model_module": "@jupyter-widgets/controls",
            "layout": "IPY_MODEL_399301a17e2b4c2bb6382c1308a159ab"
          }
        },
        "6bd7a764d84442d59c7c4d959facfd31": {
          "model_module": "@jupyter-widgets/controls",
          "model_name": "HTMLModel",
          "state": {
            "_view_name": "HTMLView",
            "style": "IPY_MODEL_0c2dd771799d486182cd4e0804b19508",
            "_dom_classes": [],
            "description": "",
            "_model_name": "HTMLModel",
            "placeholder": "​",
            "_view_module": "@jupyter-widgets/controls",
            "_model_module_version": "1.5.0",
            "value": " 248102912/? [00:17&lt;00:00, 14483409.86it/s]",
            "_view_count": null,
            "_view_module_version": "1.5.0",
            "description_tooltip": null,
            "_model_module": "@jupyter-widgets/controls",
            "layout": "IPY_MODEL_73b3c73a2ac744eb8e4396fa13c0c30f"
          }
        },
        "c1bc3bab95a14e43b59b4dbe47dadc7f": {
          "model_module": "@jupyter-widgets/controls",
          "model_name": "ProgressStyleModel",
          "state": {
            "_view_name": "StyleView",
            "_model_name": "ProgressStyleModel",
            "description_width": "initial",
            "_view_module": "@jupyter-widgets/base",
            "_model_module_version": "1.5.0",
            "_view_count": null,
            "_view_module_version": "1.2.0",
            "bar_color": null,
            "_model_module": "@jupyter-widgets/controls"
          }
        },
        "399301a17e2b4c2bb6382c1308a159ab": {
          "model_module": "@jupyter-widgets/base",
          "model_name": "LayoutModel",
          "state": {
            "_view_name": "LayoutView",
            "grid_template_rows": null,
            "right": null,
            "justify_content": null,
            "_view_module": "@jupyter-widgets/base",
            "overflow": null,
            "_model_module_version": "1.2.0",
            "_view_count": null,
            "flex_flow": null,
            "width": "20px",
            "min_width": null,
            "border": null,
            "align_items": null,
            "bottom": null,
            "_model_module": "@jupyter-widgets/base",
            "top": null,
            "grid_column": null,
            "overflow_y": null,
            "overflow_x": null,
            "grid_auto_flow": null,
            "grid_area": null,
            "grid_template_columns": null,
            "flex": null,
            "_model_name": "LayoutModel",
            "justify_items": null,
            "grid_row": null,
            "max_height": null,
            "align_content": null,
            "visibility": null,
            "align_self": null,
            "height": null,
            "min_height": null,
            "padding": null,
            "grid_auto_rows": null,
            "grid_gap": null,
            "max_width": null,
            "order": null,
            "_view_module_version": "1.2.0",
            "grid_template_areas": null,
            "object_position": null,
            "object_fit": null,
            "grid_auto_columns": null,
            "margin": null,
            "display": null,
            "left": null
          }
        },
        "0c2dd771799d486182cd4e0804b19508": {
          "model_module": "@jupyter-widgets/controls",
          "model_name": "DescriptionStyleModel",
          "state": {
            "_view_name": "StyleView",
            "_model_name": "DescriptionStyleModel",
            "description_width": "",
            "_view_module": "@jupyter-widgets/base",
            "_model_module_version": "1.5.0",
            "_view_count": null,
            "_view_module_version": "1.2.0",
            "_model_module": "@jupyter-widgets/controls"
          }
        },
        "73b3c73a2ac744eb8e4396fa13c0c30f": {
          "model_module": "@jupyter-widgets/base",
          "model_name": "LayoutModel",
          "state": {
            "_view_name": "LayoutView",
            "grid_template_rows": null,
            "right": null,
            "justify_content": null,
            "_view_module": "@jupyter-widgets/base",
            "overflow": null,
            "_model_module_version": "1.2.0",
            "_view_count": null,
            "flex_flow": null,
            "width": null,
            "min_width": null,
            "border": null,
            "align_items": null,
            "bottom": null,
            "_model_module": "@jupyter-widgets/base",
            "top": null,
            "grid_column": null,
            "overflow_y": null,
            "overflow_x": null,
            "grid_auto_flow": null,
            "grid_area": null,
            "grid_template_columns": null,
            "flex": null,
            "_model_name": "LayoutModel",
            "justify_items": null,
            "grid_row": null,
            "max_height": null,
            "align_content": null,
            "visibility": null,
            "align_self": null,
            "height": null,
            "min_height": null,
            "padding": null,
            "grid_auto_rows": null,
            "grid_gap": null,
            "max_width": null,
            "order": null,
            "_view_module_version": "1.2.0",
            "grid_template_areas": null,
            "object_position": null,
            "object_fit": null,
            "grid_auto_columns": null,
            "margin": null,
            "display": null,
            "left": null
          }
        }
      }
    }
  },
  "cells": [
    {
      "cell_type": "code",
      "metadata": {
        "id": "PkUVt4XBqMgk",
        "outputId": "484c1314-a5e7-4193-9a92-f184cbab29e4",
        "colab": {
          "base_uri": "https://localhost:8080/",
          "height": 1000
        }
      },
      "source": [
        "!pip install git+https://github.com/firekind/athena\n",
        "# ! pip install git+https://github.com/firekind/athena > /dev/null"
      ],
      "execution_count": 2,
      "outputs": [
        {
          "output_type": "stream",
          "text": [
            "Collecting git+https://github.com/firekind/athena\n",
            "  Cloning https://github.com/firekind/athena to /tmp/pip-req-build-5enpwhij\n",
            "  Running command git clone -q https://github.com/firekind/athena /tmp/pip-req-build-5enpwhij\n",
            "Requirement already satisfied (use --upgrade to upgrade): athena==0.0.2 from git+https://github.com/firekind/athena in /usr/local/lib/python3.6/dist-packages\n",
            "Requirement already satisfied: tqdm~=4.48.2 in /usr/local/lib/python3.6/dist-packages (from athena==0.0.2) (4.48.2)\n",
            "Requirement already satisfied: matplotlib~=3.2.2 in /usr/local/lib/python3.6/dist-packages (from athena==0.0.2) (3.2.2)\n",
            "Requirement already satisfied: tensorboard~=2.2.0 in /usr/local/lib/python3.6/dist-packages (from athena==0.0.2) (2.2.2)\n",
            "Requirement already satisfied: albumentations~=0.4.6 in /usr/local/lib/python3.6/dist-packages (from athena==0.0.2) (0.4.6)\n",
            "Requirement already satisfied: opencv-python~=4.4.0.42 in /usr/local/lib/python3.6/dist-packages (from athena==0.0.2) (4.4.0.44)\n",
            "Requirement already satisfied: pytorch-lightning~=1.0.0 in /usr/local/lib/python3.6/dist-packages (from athena==0.0.2) (1.0.2)\n",
            "Requirement already satisfied: ipympl~=0.5.8 in /usr/local/lib/python3.6/dist-packages (from athena==0.0.2) (0.5.8)\n",
            "Requirement already satisfied: python-dateutil>=2.1 in /usr/local/lib/python3.6/dist-packages (from matplotlib~=3.2.2->athena==0.0.2) (2.8.1)\n",
            "Requirement already satisfied: kiwisolver>=1.0.1 in /usr/local/lib/python3.6/dist-packages (from matplotlib~=3.2.2->athena==0.0.2) (1.2.0)\n",
            "Requirement already satisfied: numpy>=1.11 in /usr/local/lib/python3.6/dist-packages (from matplotlib~=3.2.2->athena==0.0.2) (1.18.5)\n",
            "Requirement already satisfied: cycler>=0.10 in /usr/local/lib/python3.6/dist-packages (from matplotlib~=3.2.2->athena==0.0.2) (0.10.0)\n",
            "Requirement already satisfied: pyparsing!=2.0.4,!=2.1.2,!=2.1.6,>=2.0.1 in /usr/local/lib/python3.6/dist-packages (from matplotlib~=3.2.2->athena==0.0.2) (2.4.7)\n",
            "Requirement already satisfied: grpcio>=1.24.3 in /usr/local/lib/python3.6/dist-packages (from tensorboard~=2.2.0->athena==0.0.2) (1.32.0)\n",
            "Requirement already satisfied: absl-py>=0.4 in /usr/local/lib/python3.6/dist-packages (from tensorboard~=2.2.0->athena==0.0.2) (0.10.0)\n",
            "Requirement already satisfied: setuptools>=41.0.0 in /usr/local/lib/python3.6/dist-packages (from tensorboard~=2.2.0->athena==0.0.2) (50.3.0)\n",
            "Requirement already satisfied: markdown>=2.6.8 in /usr/local/lib/python3.6/dist-packages (from tensorboard~=2.2.0->athena==0.0.2) (3.2.2)\n",
            "Requirement already satisfied: six>=1.10.0 in /usr/local/lib/python3.6/dist-packages (from tensorboard~=2.2.0->athena==0.0.2) (1.15.0)\n",
            "Requirement already satisfied: protobuf>=3.6.0 in /usr/local/lib/python3.6/dist-packages (from tensorboard~=2.2.0->athena==0.0.2) (3.12.4)\n",
            "Requirement already satisfied: google-auth-oauthlib<0.5,>=0.4.1 in /usr/local/lib/python3.6/dist-packages (from tensorboard~=2.2.0->athena==0.0.2) (0.4.1)\n",
            "Requirement already satisfied: requests<3,>=2.21.0 in /usr/local/lib/python3.6/dist-packages (from tensorboard~=2.2.0->athena==0.0.2) (2.23.0)\n",
            "Requirement already satisfied: tensorboard-plugin-wit>=1.6.0 in /usr/local/lib/python3.6/dist-packages (from tensorboard~=2.2.0->athena==0.0.2) (1.7.0)\n",
            "Requirement already satisfied: wheel>=0.26; python_version >= \"3\" in /usr/local/lib/python3.6/dist-packages (from tensorboard~=2.2.0->athena==0.0.2) (0.35.1)\n",
            "Requirement already satisfied: google-auth<2,>=1.6.3 in /usr/local/lib/python3.6/dist-packages (from tensorboard~=2.2.0->athena==0.0.2) (1.17.2)\n",
            "Requirement already satisfied: werkzeug>=0.11.15 in /usr/local/lib/python3.6/dist-packages (from tensorboard~=2.2.0->athena==0.0.2) (1.0.1)\n",
            "Requirement already satisfied: PyYAML in /usr/local/lib/python3.6/dist-packages (from albumentations~=0.4.6->athena==0.0.2) (3.13)\n",
            "Requirement already satisfied: scipy in /usr/local/lib/python3.6/dist-packages (from albumentations~=0.4.6->athena==0.0.2) (1.4.1)\n",
            "Requirement already satisfied: imgaug>=0.4.0 in /usr/local/lib/python3.6/dist-packages (from albumentations~=0.4.6->athena==0.0.2) (0.4.0)\n",
            "Requirement already satisfied: torch>=1.3 in /usr/local/lib/python3.6/dist-packages (from pytorch-lightning~=1.0.0->athena==0.0.2) (1.6.0+cu101)\n",
            "Requirement already satisfied: future>=0.17.1 in /usr/local/lib/python3.6/dist-packages (from pytorch-lightning~=1.0.0->athena==0.0.2) (0.18.2)\n",
            "Requirement already satisfied: fsspec>=0.8.0 in /usr/local/lib/python3.6/dist-packages (from pytorch-lightning~=1.0.0->athena==0.0.2) (0.8.4)\n",
            "Requirement already satisfied: ipykernel>=4.7 in /usr/local/lib/python3.6/dist-packages (from ipympl~=0.5.8->athena==0.0.2) (4.10.1)\n",
            "Requirement already satisfied: ipywidgets>=7.5.0 in /usr/local/lib/python3.6/dist-packages (from ipympl~=0.5.8->athena==0.0.2) (7.5.1)\n",
            "Requirement already satisfied: importlib-metadata; python_version < \"3.8\" in /usr/local/lib/python3.6/dist-packages (from markdown>=2.6.8->tensorboard~=2.2.0->athena==0.0.2) (2.0.0)\n",
            "Requirement already satisfied: requests-oauthlib>=0.7.0 in /usr/local/lib/python3.6/dist-packages (from google-auth-oauthlib<0.5,>=0.4.1->tensorboard~=2.2.0->athena==0.0.2) (1.3.0)\n",
            "Requirement already satisfied: chardet<4,>=3.0.2 in /usr/local/lib/python3.6/dist-packages (from requests<3,>=2.21.0->tensorboard~=2.2.0->athena==0.0.2) (3.0.4)\n",
            "Requirement already satisfied: certifi>=2017.4.17 in /usr/local/lib/python3.6/dist-packages (from requests<3,>=2.21.0->tensorboard~=2.2.0->athena==0.0.2) (2020.6.20)\n",
            "Requirement already satisfied: urllib3!=1.25.0,!=1.25.1,<1.26,>=1.21.1 in /usr/local/lib/python3.6/dist-packages (from requests<3,>=2.21.0->tensorboard~=2.2.0->athena==0.0.2) (1.24.3)\n",
            "Requirement already satisfied: idna<3,>=2.5 in /usr/local/lib/python3.6/dist-packages (from requests<3,>=2.21.0->tensorboard~=2.2.0->athena==0.0.2) (2.10)\n",
            "Requirement already satisfied: rsa<5,>=3.1.4; python_version >= \"3\" in /usr/local/lib/python3.6/dist-packages (from google-auth<2,>=1.6.3->tensorboard~=2.2.0->athena==0.0.2) (4.6)\n",
            "Requirement already satisfied: cachetools<5.0,>=2.0.0 in /usr/local/lib/python3.6/dist-packages (from google-auth<2,>=1.6.3->tensorboard~=2.2.0->athena==0.0.2) (4.1.1)\n",
            "Requirement already satisfied: pyasn1-modules>=0.2.1 in /usr/local/lib/python3.6/dist-packages (from google-auth<2,>=1.6.3->tensorboard~=2.2.0->athena==0.0.2) (0.2.8)\n",
            "Requirement already satisfied: Shapely in /usr/local/lib/python3.6/dist-packages (from imgaug>=0.4.0->albumentations~=0.4.6->athena==0.0.2) (1.7.1)\n",
            "Requirement already satisfied: scikit-image>=0.14.2 in /usr/local/lib/python3.6/dist-packages (from imgaug>=0.4.0->albumentations~=0.4.6->athena==0.0.2) (0.16.2)\n",
            "Requirement already satisfied: Pillow in /usr/local/lib/python3.6/dist-packages (from imgaug>=0.4.0->albumentations~=0.4.6->athena==0.0.2) (7.0.0)\n",
            "Requirement already satisfied: imageio in /usr/local/lib/python3.6/dist-packages (from imgaug>=0.4.0->albumentations~=0.4.6->athena==0.0.2) (2.4.1)\n",
            "Requirement already satisfied: jupyter-client in /usr/local/lib/python3.6/dist-packages (from ipykernel>=4.7->ipympl~=0.5.8->athena==0.0.2) (5.3.5)\n",
            "Requirement already satisfied: tornado>=4.0 in /usr/local/lib/python3.6/dist-packages (from ipykernel>=4.7->ipympl~=0.5.8->athena==0.0.2) (5.1.1)\n",
            "Requirement already satisfied: ipython>=4.0.0 in /usr/local/lib/python3.6/dist-packages (from ipykernel>=4.7->ipympl~=0.5.8->athena==0.0.2) (5.5.0)\n",
            "Requirement already satisfied: traitlets>=4.1.0 in /usr/local/lib/python3.6/dist-packages (from ipykernel>=4.7->ipympl~=0.5.8->athena==0.0.2) (4.3.3)\n",
            "Requirement already satisfied: widgetsnbextension~=3.5.0 in /usr/local/lib/python3.6/dist-packages (from ipywidgets>=7.5.0->ipympl~=0.5.8->athena==0.0.2) (3.5.1)\n",
            "Requirement already satisfied: nbformat>=4.2.0 in /usr/local/lib/python3.6/dist-packages (from ipywidgets>=7.5.0->ipympl~=0.5.8->athena==0.0.2) (5.0.7)\n",
            "Requirement already satisfied: zipp>=0.5 in /usr/local/lib/python3.6/dist-packages (from importlib-metadata; python_version < \"3.8\"->markdown>=2.6.8->tensorboard~=2.2.0->athena==0.0.2) (3.2.0)\n",
            "Requirement already satisfied: oauthlib>=3.0.0 in /usr/local/lib/python3.6/dist-packages (from requests-oauthlib>=0.7.0->google-auth-oauthlib<0.5,>=0.4.1->tensorboard~=2.2.0->athena==0.0.2) (3.1.0)\n",
            "Requirement already satisfied: pyasn1>=0.1.3 in /usr/local/lib/python3.6/dist-packages (from rsa<5,>=3.1.4; python_version >= \"3\"->google-auth<2,>=1.6.3->tensorboard~=2.2.0->athena==0.0.2) (0.4.8)\n",
            "Requirement already satisfied: networkx>=2.0 in /usr/local/lib/python3.6/dist-packages (from scikit-image>=0.14.2->imgaug>=0.4.0->albumentations~=0.4.6->athena==0.0.2) (2.5)\n",
            "Requirement already satisfied: PyWavelets>=0.4.0 in /usr/local/lib/python3.6/dist-packages (from scikit-image>=0.14.2->imgaug>=0.4.0->albumentations~=0.4.6->athena==0.0.2) (1.1.1)\n",
            "Requirement already satisfied: pyzmq>=13 in /usr/local/lib/python3.6/dist-packages (from jupyter-client->ipykernel>=4.7->ipympl~=0.5.8->athena==0.0.2) (19.0.2)\n",
            "Requirement already satisfied: jupyter-core>=4.6.0 in /usr/local/lib/python3.6/dist-packages (from jupyter-client->ipykernel>=4.7->ipympl~=0.5.8->athena==0.0.2) (4.6.3)\n",
            "Requirement already satisfied: simplegeneric>0.8 in /usr/local/lib/python3.6/dist-packages (from ipython>=4.0.0->ipykernel>=4.7->ipympl~=0.5.8->athena==0.0.2) (0.8.1)\n",
            "Requirement already satisfied: pickleshare in /usr/local/lib/python3.6/dist-packages (from ipython>=4.0.0->ipykernel>=4.7->ipympl~=0.5.8->athena==0.0.2) (0.7.5)\n",
            "Requirement already satisfied: decorator in /usr/local/lib/python3.6/dist-packages (from ipython>=4.0.0->ipykernel>=4.7->ipympl~=0.5.8->athena==0.0.2) (4.4.2)\n",
            "Requirement already satisfied: pygments in /usr/local/lib/python3.6/dist-packages (from ipython>=4.0.0->ipykernel>=4.7->ipympl~=0.5.8->athena==0.0.2) (2.6.1)\n",
            "Requirement already satisfied: prompt-toolkit<2.0.0,>=1.0.4 in /usr/local/lib/python3.6/dist-packages (from ipython>=4.0.0->ipykernel>=4.7->ipympl~=0.5.8->athena==0.0.2) (1.0.18)\n",
            "Requirement already satisfied: pexpect; sys_platform != \"win32\" in /usr/local/lib/python3.6/dist-packages (from ipython>=4.0.0->ipykernel>=4.7->ipympl~=0.5.8->athena==0.0.2) (4.8.0)\n",
            "Requirement already satisfied: ipython-genutils in /usr/local/lib/python3.6/dist-packages (from traitlets>=4.1.0->ipykernel>=4.7->ipympl~=0.5.8->athena==0.0.2) (0.2.0)\n",
            "Requirement already satisfied: notebook>=4.4.1 in /usr/local/lib/python3.6/dist-packages (from widgetsnbextension~=3.5.0->ipywidgets>=7.5.0->ipympl~=0.5.8->athena==0.0.2) (5.3.1)\n",
            "Requirement already satisfied: jsonschema!=2.5.0,>=2.4 in /usr/local/lib/python3.6/dist-packages (from nbformat>=4.2.0->ipywidgets>=7.5.0->ipympl~=0.5.8->athena==0.0.2) (2.6.0)\n",
            "Requirement already satisfied: wcwidth in /usr/local/lib/python3.6/dist-packages (from prompt-toolkit<2.0.0,>=1.0.4->ipython>=4.0.0->ipykernel>=4.7->ipympl~=0.5.8->athena==0.0.2) (0.2.5)\n",
            "Requirement already satisfied: ptyprocess>=0.5 in /usr/local/lib/python3.6/dist-packages (from pexpect; sys_platform != \"win32\"->ipython>=4.0.0->ipykernel>=4.7->ipympl~=0.5.8->athena==0.0.2) (0.6.0)\n",
            "Requirement already satisfied: terminado>=0.8.1 in /usr/local/lib/python3.6/dist-packages (from notebook>=4.4.1->widgetsnbextension~=3.5.0->ipywidgets>=7.5.0->ipympl~=0.5.8->athena==0.0.2) (0.9.1)\n",
            "Requirement already satisfied: jinja2 in /usr/local/lib/python3.6/dist-packages (from notebook>=4.4.1->widgetsnbextension~=3.5.0->ipywidgets>=7.5.0->ipympl~=0.5.8->athena==0.0.2) (2.11.2)\n",
            "Requirement already satisfied: Send2Trash in /usr/local/lib/python3.6/dist-packages (from notebook>=4.4.1->widgetsnbextension~=3.5.0->ipywidgets>=7.5.0->ipympl~=0.5.8->athena==0.0.2) (1.5.0)\n",
            "Requirement already satisfied: nbconvert in /usr/local/lib/python3.6/dist-packages (from notebook>=4.4.1->widgetsnbextension~=3.5.0->ipywidgets>=7.5.0->ipympl~=0.5.8->athena==0.0.2) (5.6.1)\n",
            "Requirement already satisfied: MarkupSafe>=0.23 in /usr/local/lib/python3.6/dist-packages (from jinja2->notebook>=4.4.1->widgetsnbextension~=3.5.0->ipywidgets>=7.5.0->ipympl~=0.5.8->athena==0.0.2) (1.1.1)\n",
            "Requirement already satisfied: bleach in /usr/local/lib/python3.6/dist-packages (from nbconvert->notebook>=4.4.1->widgetsnbextension~=3.5.0->ipywidgets>=7.5.0->ipympl~=0.5.8->athena==0.0.2) (3.2.1)\n",
            "Requirement already satisfied: mistune<2,>=0.8.1 in /usr/local/lib/python3.6/dist-packages (from nbconvert->notebook>=4.4.1->widgetsnbextension~=3.5.0->ipywidgets>=7.5.0->ipympl~=0.5.8->athena==0.0.2) (0.8.4)\n",
            "Requirement already satisfied: pandocfilters>=1.4.1 in /usr/local/lib/python3.6/dist-packages (from nbconvert->notebook>=4.4.1->widgetsnbextension~=3.5.0->ipywidgets>=7.5.0->ipympl~=0.5.8->athena==0.0.2) (1.4.2)\n",
            "Requirement already satisfied: entrypoints>=0.2.2 in /usr/local/lib/python3.6/dist-packages (from nbconvert->notebook>=4.4.1->widgetsnbextension~=3.5.0->ipywidgets>=7.5.0->ipympl~=0.5.8->athena==0.0.2) (0.3)\n",
            "Requirement already satisfied: testpath in /usr/local/lib/python3.6/dist-packages (from nbconvert->notebook>=4.4.1->widgetsnbextension~=3.5.0->ipywidgets>=7.5.0->ipympl~=0.5.8->athena==0.0.2) (0.4.4)\n",
            "Requirement already satisfied: defusedxml in /usr/local/lib/python3.6/dist-packages (from nbconvert->notebook>=4.4.1->widgetsnbextension~=3.5.0->ipywidgets>=7.5.0->ipympl~=0.5.8->athena==0.0.2) (0.6.0)\n",
            "Requirement already satisfied: packaging in /usr/local/lib/python3.6/dist-packages (from bleach->nbconvert->notebook>=4.4.1->widgetsnbextension~=3.5.0->ipywidgets>=7.5.0->ipympl~=0.5.8->athena==0.0.2) (20.4)\n",
            "Requirement already satisfied: webencodings in /usr/local/lib/python3.6/dist-packages (from bleach->nbconvert->notebook>=4.4.1->widgetsnbextension~=3.5.0->ipywidgets>=7.5.0->ipympl~=0.5.8->athena==0.0.2) (0.5.1)\n",
            "Building wheels for collected packages: athena\n",
            "  Building wheel for athena (setup.py) ... \u001b[?25l\u001b[?25hdone\n",
            "  Created wheel for athena: filename=athena-0.0.2-cp36-none-any.whl size=48787 sha256=10495374dfb5eb07464a3d10fc3a65cf201ca084b157eab3f979f3e7f1ee7e1d\n",
            "  Stored in directory: /tmp/pip-ephem-wheel-cache-6r88ilby/wheels/36/d3/7b/d9500a9af2498abc5d48d60c7db37c1456ee745049da352e0b\n",
            "Successfully built athena\n"
          ],
          "name": "stdout"
        }
      ]
    },
    {
      "cell_type": "code",
      "metadata": {
        "id": "LPRUVKqeud5-"
      },
      "source": [
        "import torch.optim as optim\n",
        "import torch\n",
        "import torchvision\n",
        "import torchvision.transforms as transforms\n",
        "from torchsummary import summary\n",
        "import albumentations as A\n",
        "from albumentations.pytorch.transforms import ToTensor\n",
        "import torch.nn as nn\n",
        "import torch.nn.functional as F\n",
        "from torch.optim.lr_scheduler import StepLR, OneCycleLR, ReduceLROnPlateau\n",
        "\n",
        "from athena import datasets, Experiment, Experiments, ClassificationSolver\n",
        "from athena.visualizations import plot_misclassified, plot_scalars\n",
        "from athena.utils.transforms import ToNumpy, ToTensor\n",
        "from athena.models import ResNet18\n",
        "from athena.tuning import lr_finder"
      ],
      "execution_count": 3,
      "outputs": []
    },
    {
      "cell_type": "code",
      "metadata": {
        "id": "rD9zsTyyvHy4"
      },
      "source": [
        "# device = torch.device('cuda' if torch.cuda.is_available() else 'cpu')\n",
        "# print(device)\n",
        "\n",
        "batch_size = 512\n",
        "epochs = 50"
      ],
      "execution_count": 4,
      "outputs": []
    },
    {
      "cell_type": "code",
      "metadata": {
        "id": "znzgnsLBNfZ-",
        "outputId": "ed92ba3f-3fea-4564-a4cd-7d71301718cf",
        "colab": {
          "base_uri": "https://localhost:8080/",
          "height": 133,
          "referenced_widgets": [
            "df8df5db160e4374a4539232a63dbd34",
            "a7c4534b9eeb445abd920f9578711b06",
            "ce4b88c405bb4058abb5db98f0fce354",
            "6bd7a764d84442d59c7c4d959facfd31",
            "c1bc3bab95a14e43b59b4dbe47dadc7f",
            "399301a17e2b4c2bb6382c1308a159ab",
            "0c2dd771799d486182cd4e0804b19508",
            "73b3c73a2ac744eb8e4396fa13c0c30f"
          ]
        }
      },
      "source": [
        "train_set = datasets.tinyimagenet(root='.', download=True, use_default_transforms=True)\n",
        "test_set = datasets.tinyimagenet(root='.', train=False, download=True, use_default_transforms=True)"
      ],
      "execution_count": 7,
      "outputs": [
        {
          "output_type": "stream",
          "text": [
            "Downloading http://cs231n.stanford.edu/tiny-imagenet-200.zip to ./tiny-imagenet-200.zip\n"
          ],
          "name": "stdout"
        },
        {
          "output_type": "display_data",
          "data": {
            "application/vnd.jupyter.widget-view+json": {
              "model_id": "df8df5db160e4374a4539232a63dbd34",
              "version_minor": 0,
              "version_major": 2
            },
            "text/plain": [
              "HBox(children=(FloatProgress(value=1.0, bar_style='info', layout=Layout(width='20px'), max=1.0), HTML(value=''…"
            ]
          },
          "metadata": {
            "tags": []
          }
        },
        {
          "output_type": "stream",
          "text": [
            "Extracting ./tiny-imagenet-200.zip to .\n",
            "\n",
            "Using downloaded and verified file: ./tiny-imagenet-200.zip\n",
            "Extracting ./tiny-imagenet-200.zip to .\n"
          ],
          "name": "stdout"
        }
      ]
    },
    {
      "cell_type": "code",
      "metadata": {
        "id": "OUjmMt-9NxYn"
      },
      "source": [
        "train_load, valid_load = datasets.train_val_split(batch_size, train_set, val_split=0.3)"
      ],
      "execution_count": 8,
      "outputs": []
    },
    {
      "cell_type": "code",
      "metadata": {
        "id": "GRWwgscjOhXA",
        "outputId": "492b3dd6-99c6-4745-edb0-7545728c6aa7",
        "colab": {
          "base_uri": "https://localhost:8080/",
          "height": 50
        }
      },
      "source": [
        "images, labels = next(iter(train_load))\n",
        "\n",
        "print(images.shape)\n",
        "print(labels.shape)"
      ],
      "execution_count": 9,
      "outputs": [
        {
          "output_type": "stream",
          "text": [
            "torch.Size([512, 3, 64, 64])\n",
            "torch.Size([512])\n"
          ],
          "name": "stdout"
        }
      ]
    },
    {
      "cell_type": "code",
      "metadata": {
        "id": "eqr6UyZ543dW",
        "outputId": "17e57677-6628-4e3c-a338-adf272051a2e",
        "colab": {
          "base_uri": "https://localhost:8080/",
          "height": 346
        }
      },
      "source": [
        "from athena.tuning import lr_finder\n",
        "\n",
        "# def acc_fn(outputs, labels):\n",
        "#     pred = outputs.argmax(dim=1, keepdim=True)\n",
        "#     correct = pred.eq(labels.view_as(pred)).float()\n",
        "#     return correct.mean()\n",
        "  \n",
        "\n",
        "optimizer = optim.SGD(net.parameters(), lr=1e-3, momentum=0.9)\n",
        "criterion = F.cross_entropy\n",
        "\n",
        "lr_finder = lr_finder.LRFinder(net, optimizer, criterion, device=device)\n",
        "\n",
        "# Starting range test\n",
        "lr_finder.reset()\n",
        "lr_finder.range_test(train_load, val_loader=valid_load, end_lr=1e-2, num_iter=100, step_mode=\"linear\")\n",
        "res = lr_finder.plot(mode=\"acc\")"
      ],
      "execution_count": 9,
      "outputs": [
        {
          "output_type": "stream",
          "text": [
            "Running LR Finder:\n",
            "100/100 [==============================] - 3915s 39s/step\n"
          ],
          "name": "stdout"
        },
        {
          "output_type": "error",
          "ename": "ValueError",
          "evalue": "ignored",
          "traceback": [
            "\u001b[0;31m---------------------------------------------------------------------------\u001b[0m",
            "\u001b[0;31mValueError\u001b[0m                                Traceback (most recent call last)",
            "\u001b[0;32m<ipython-input-9-8890aa6f6fe2>\u001b[0m in \u001b[0;36m<module>\u001b[0;34m()\u001b[0m\n\u001b[1;32m     15\u001b[0m \u001b[0mlr_finder\u001b[0m\u001b[0;34m.\u001b[0m\u001b[0mreset\u001b[0m\u001b[0;34m(\u001b[0m\u001b[0;34m)\u001b[0m\u001b[0;34m\u001b[0m\u001b[0;34m\u001b[0m\u001b[0m\n\u001b[1;32m     16\u001b[0m \u001b[0mlr_finder\u001b[0m\u001b[0;34m.\u001b[0m\u001b[0mrange_test\u001b[0m\u001b[0;34m(\u001b[0m\u001b[0mtrain_load\u001b[0m\u001b[0;34m,\u001b[0m \u001b[0mval_loader\u001b[0m\u001b[0;34m=\u001b[0m\u001b[0mvalid_load\u001b[0m\u001b[0;34m,\u001b[0m \u001b[0mend_lr\u001b[0m\u001b[0;34m=\u001b[0m\u001b[0;36m1e-2\u001b[0m\u001b[0;34m,\u001b[0m \u001b[0mnum_iter\u001b[0m\u001b[0;34m=\u001b[0m\u001b[0;36m100\u001b[0m\u001b[0;34m,\u001b[0m \u001b[0mstep_mode\u001b[0m\u001b[0;34m=\u001b[0m\u001b[0;34m\"linear\"\u001b[0m\u001b[0;34m)\u001b[0m\u001b[0;34m\u001b[0m\u001b[0;34m\u001b[0m\u001b[0m\n\u001b[0;32m---> 17\u001b[0;31m \u001b[0mres\u001b[0m \u001b[0;34m=\u001b[0m \u001b[0mlr_finder\u001b[0m\u001b[0;34m.\u001b[0m\u001b[0mplot\u001b[0m\u001b[0;34m(\u001b[0m\u001b[0mmode\u001b[0m\u001b[0;34m=\u001b[0m\u001b[0;34m\"acc\"\u001b[0m\u001b[0;34m)\u001b[0m\u001b[0;34m\u001b[0m\u001b[0;34m\u001b[0m\u001b[0m\n\u001b[0m",
            "\u001b[0;32m/usr/local/lib/python3.6/dist-packages/athena/tuning/lr_finder.py\u001b[0m in \u001b[0;36mplot\u001b[0;34m(self, skip_start, skip_end, log_lr, show_lr, ax, suggest_lr, mode)\u001b[0m\n\u001b[1;32m    553\u001b[0m             \u001b[0;32mraise\u001b[0m \u001b[0mValueError\u001b[0m\u001b[0;34m(\u001b[0m\u001b[0;34m\"show_lr must be float\"\u001b[0m\u001b[0;34m)\u001b[0m\u001b[0;34m\u001b[0m\u001b[0;34m\u001b[0m\u001b[0m\n\u001b[1;32m    554\u001b[0m         \u001b[0;32mif\u001b[0m \u001b[0mmode\u001b[0m \u001b[0;34m==\u001b[0m \u001b[0;34m\"acc\"\u001b[0m \u001b[0;32mand\u001b[0m \u001b[0mlen\u001b[0m\u001b[0;34m(\u001b[0m\u001b[0mself\u001b[0m\u001b[0;34m.\u001b[0m\u001b[0mhistory\u001b[0m\u001b[0;34m[\u001b[0m\u001b[0;34m\"acc\"\u001b[0m\u001b[0;34m]\u001b[0m\u001b[0;34m)\u001b[0m \u001b[0;34m==\u001b[0m \u001b[0;36m0\u001b[0m\u001b[0;34m:\u001b[0m\u001b[0;34m\u001b[0m\u001b[0;34m\u001b[0m\u001b[0m\n\u001b[0;32m--> 555\u001b[0;31m             \u001b[0;32mraise\u001b[0m \u001b[0mValueError\u001b[0m\u001b[0;34m(\u001b[0m\u001b[0;34m\"cannot plot accuracy vs lr when acc_fn was not defined.\"\u001b[0m\u001b[0;34m)\u001b[0m\u001b[0;34m\u001b[0m\u001b[0;34m\u001b[0m\u001b[0m\n\u001b[0m\u001b[1;32m    556\u001b[0m \u001b[0;34m\u001b[0m\u001b[0m\n\u001b[1;32m    557\u001b[0m         \u001b[0;31m# Get the data to plot from the history dictionary. Also, handle skip_end=0\u001b[0m\u001b[0;34m\u001b[0m\u001b[0;34m\u001b[0m\u001b[0;34m\u001b[0m\u001b[0m\n",
            "\u001b[0;31mValueError\u001b[0m: cannot plot accuracy vs lr when acc_fn was not defined."
          ]
        }
      ]
    },
    {
      "cell_type": "code",
      "metadata": {
        "id": "H1wlzzt9UEc5",
        "outputId": "74415afa-e5ec-49b4-a5a4-f66bc5cd1a6e",
        "colab": {
          "base_uri": "https://localhost:8080/",
          "height": 283
        }
      },
      "source": [
        "res = lr_finder.plot()"
      ],
      "execution_count": 10,
      "outputs": [
        {
          "output_type": "display_data",
          "data": {
            "image/png": "[encoded data removed]",
            "text/plain": [
              "<Figure size 432x288 with 1 Axes>"
            ]
          },
          "metadata": {
            "tags": [],
            "needs_background": "light"
          }
        }
      ]
    },
    {
      "cell_type": "code",
      "metadata": {
        "id": "N9TGqaiQ2upZ"
      },
      "source": [
        "# creating the experiment\n",
        "exp = (\n",
        "    Experiment.builder()\n",
        "    .props()\n",
        "      .name(\"Tiny Imagenet Exp\")\n",
        "      .log_directory(\".\")\n",
        "    .data()\n",
        "      .train_loader(train_load)\n",
        "      .val_loader(valid_load)\n",
        "    .solver(ClassificationSolver)\n",
        "      .model(ResNet18(200))\n",
        "      .optimizer(optim.SGD, lr=0.008, momentum=0.9)\n",
        "      .epochs(epochs)\n",
        "    .build() \n",
        ")"
      ],
      "execution_count": 14,
      "outputs": []
    },
    {
      "cell_type": "code",
      "metadata": {
        "id": "8jX_Mtub_-NR",
        "outputId": "006f0e24-14a2-4da4-d0ab-baa8e894a809",
        "colab": {
          "base_uri": "https://localhost:8080/",
          "height": 1000
        }
      },
      "source": [
        "exp.fit_one_cycle(max_lr=8.18e-3, max_at_epoch=10, anneal_strategy=\"linear\")"
      ],
      "execution_count": 15,
      "outputs": [
        {
          "output_type": "stream",
          "text": [
            "\u001b[1m\u001b[92m=> Running experiment: Tiny Imagenet Exp\u001b[0m\n",
            "Epoch: 1 / 50\n",
            "137/137 [==============================] - 140s 1s/step - loss: 4.8930 - train accuracy: 0.0301\n",
            "Validation set: validation loss: 4.8532, validation accuracy: 0.0491\n",
            "\n",
            "Epoch: 2 / 50\n",
            "137/137 [==============================] - 140s 1s/step - loss: 4.4690 - train accuracy: 0.0701\n",
            "Validation set: validation loss: 4.5079, validation accuracy: 0.0805\n",
            "\n",
            "Epoch: 3 / 50\n",
            "137/137 [==============================] - 140s 1s/step - loss: 4.1430 - train accuracy: 0.1119\n",
            "Validation set: validation loss: 4.2140, validation accuracy: 0.1155\n",
            "\n",
            "Epoch: 4 / 50\n",
            "137/137 [==============================] - 139s 1s/step - loss: 3.8770 - train accuracy: 0.1488\n",
            "Validation set: validation loss: 4.0930, validation accuracy: 0.1264\n",
            "\n",
            "Epoch: 5 / 50\n",
            "137/137 [==============================] - 139s 1s/step - loss: 3.6830 - train accuracy: 0.1793\n",
            "Validation set: validation loss: 3.8946, validation accuracy: 0.1537\n",
            "\n",
            "Epoch: 6 / 50\n",
            "137/137 [==============================] - 139s 1s/step - loss: 3.4800 - train accuracy: 0.2062\n",
            "Validation set: validation loss: 3.6922, validation accuracy: 0.1777\n",
            "\n",
            "Epoch: 7 / 50\n",
            "137/137 [==============================] - 139s 1s/step - loss: 3.3540 - train accuracy: 0.2337\n",
            "Validation set: validation loss: 3.7738, validation accuracy: 0.1770\n",
            "\n",
            "Epoch: 8 / 50\n",
            "137/137 [==============================] - 139s 1s/step - loss: 3.2100 - train accuracy: 0.2586\n",
            "Validation set: validation loss: 3.4300, validation accuracy: 0.2268\n",
            "\n",
            "Epoch: 9 / 50\n",
            "137/137 [==============================] - 139s 1s/step - loss: 3.0380 - train accuracy: 0.2831\n",
            "Validation set: validation loss: 3.4167, validation accuracy: 0.2281\n",
            "\n",
            "Epoch: 10 / 50\n",
            "137/137 [==============================] - 140s 1s/step - loss: 2.9530 - train accuracy: 0.3063\n",
            "Validation set: validation loss: 3.5123, validation accuracy: 0.2092\n",
            "\n",
            "Epoch: 11 / 50\n",
            "137/137 [==============================] - 140s 1s/step - loss: 2.8210 - train accuracy: 0.3280\n",
            "Validation set: validation loss: 3.1134, validation accuracy: 0.2839\n",
            "\n",
            "Epoch: 12 / 50\n",
            "137/137 [==============================] - 139s 1s/step - loss: 2.7660 - train accuracy: 0.3498\n",
            "Validation set: validation loss: 3.3875, validation accuracy: 0.2522\n",
            "\n",
            "Epoch: 13 / 50\n",
            "137/137 [==============================] - 140s 1s/step - loss: 2.6390 - train accuracy: 0.3694\n",
            "Validation set: validation loss: 3.0838, validation accuracy: 0.2906\n",
            "\n",
            "Epoch: 14 / 50\n",
            "137/137 [==============================] - 139s 1s/step - loss: 2.5350 - train accuracy: 0.3861\n",
            "Validation set: validation loss: 3.0111, validation accuracy: 0.3044\n",
            "\n",
            "Epoch: 15 / 50\n",
            "137/137 [==============================] - 139s 1s/step - loss: 2.4800 - train accuracy: 0.4072\n",
            "Validation set: validation loss: 2.8221, validation accuracy: 0.3375\n",
            "\n",
            "Epoch: 16 / 50\n",
            "137/137 [==============================] - 140s 1s/step - loss: 2.3650 - train accuracy: 0.4217\n",
            "Validation set: validation loss: 2.8789, validation accuracy: 0.3331\n",
            "\n",
            "Epoch: 17 / 50\n",
            "137/137 [==============================] - 139s 1s/step - loss: 2.3010 - train accuracy: 0.4385\n",
            "Validation set: validation loss: 2.9661, validation accuracy: 0.3146\n",
            "\n",
            "Epoch: 18 / 50\n",
            "137/137 [==============================] - 140s 1s/step - loss: 2.2620 - train accuracy: 0.4538\n",
            "Validation set: validation loss: 2.7924, validation accuracy: 0.3490\n",
            "\n",
            "Epoch: 19 / 50\n",
            "137/137 [==============================] - 139s 1s/step - loss: 2.1540 - train accuracy: 0.4660\n",
            "Validation set: validation loss: 2.6785, validation accuracy: 0.3717\n",
            "\n",
            "Epoch: 20 / 50\n",
            "137/137 [==============================] - 139s 1s/step - loss: 2.1070 - train accuracy: 0.4815\n",
            "Validation set: validation loss: 2.7351, validation accuracy: 0.3637\n",
            "\n",
            "Epoch: 21 / 50\n",
            "137/137 [==============================] - 140s 1s/step - loss: 2.0360 - train accuracy: 0.4951\n",
            "Validation set: validation loss: 2.5169, validation accuracy: 0.4006\n",
            "\n",
            "Epoch: 22 / 50\n",
            "137/137 [==============================] - 140s 1s/step - loss: 2.0090 - train accuracy: 0.5077\n",
            "Validation set: validation loss: 2.5075, validation accuracy: 0.4038\n",
            "\n",
            "Epoch: 23 / 50\n",
            "137/137 [==============================] - 139s 1s/step - loss: 1.9480 - train accuracy: 0.5201\n",
            "Validation set: validation loss: 2.5512, validation accuracy: 0.3957\n",
            "\n",
            "Epoch: 24 / 50\n",
            "137/137 [==============================] - 140s 1s/step - loss: 1.8840 - train accuracy: 0.5310\n",
            "Validation set: validation loss: 2.5424, validation accuracy: 0.3961\n",
            "\n",
            "Epoch: 25 / 50\n",
            "137/137 [==============================] - 139s 1s/step - loss: 1.8770 - train accuracy: 0.5458\n",
            "Validation set: validation loss: 2.7092, validation accuracy: 0.3765\n",
            "\n",
            "Epoch: 26 / 50\n",
            "137/137 [==============================] - 140s 1s/step - loss: 1.7900 - train accuracy: 0.5581\n",
            "Validation set: validation loss: 2.4755, validation accuracy: 0.4144\n",
            "\n",
            "Epoch: 27 / 50\n",
            "137/137 [==============================] - 140s 1s/step - loss: 1.7300 - train accuracy: 0.5655\n",
            "Validation set: validation loss: 2.3844, validation accuracy: 0.4317\n",
            "\n",
            "Epoch: 28 / 50\n",
            "137/137 [==============================] - 140s 1s/step - loss: 1.6920 - train accuracy: 0.5785\n",
            "Validation set: validation loss: 2.3729, validation accuracy: 0.4285\n",
            "\n",
            "Epoch: 29 / 50\n",
            "137/137 [==============================] - 140s 1s/step - loss: 1.6430 - train accuracy: 0.5932\n",
            "Validation set: validation loss: 2.4382, validation accuracy: 0.4203\n",
            "\n",
            "Epoch: 30 / 50\n",
            "137/137 [==============================] - 140s 1s/step - loss: 1.6000 - train accuracy: 0.6039\n",
            "Validation set: validation loss: 2.4769, validation accuracy: 0.4176\n",
            "\n",
            "Epoch: 31 / 50\n",
            "137/137 [==============================] - 140s 1s/step - loss: 1.5090 - train accuracy: 0.6139\n",
            "Validation set: validation loss: 2.3972, validation accuracy: 0.4341\n",
            "\n",
            "Epoch: 32 / 50\n",
            "137/137 [==============================] - 140s 1s/step - loss: 1.5120 - train accuracy: 0.6299\n",
            "Validation set: validation loss: 2.3191, validation accuracy: 0.4420\n",
            "\n",
            "Epoch: 33 / 50\n",
            "137/137 [==============================] - 140s 1s/step - loss: 1.4330 - train accuracy: 0.6374\n",
            "Validation set: validation loss: 2.3872, validation accuracy: 0.4399\n",
            "\n",
            "Epoch: 34 / 50\n",
            "137/137 [==============================] - 140s 1s/step - loss: 1.4120 - train accuracy: 0.6484\n",
            "Validation set: validation loss: 2.3145, validation accuracy: 0.4478\n",
            "\n",
            "Epoch: 35 / 50\n",
            "137/137 [==============================] - 140s 1s/step - loss: 1.3560 - train accuracy: 0.6606\n",
            "Validation set: validation loss: 2.3202, validation accuracy: 0.4491\n",
            "\n",
            "Epoch: 36 / 50\n",
            "137/137 [==============================] - 140s 1s/step - loss: 1.3120 - train accuracy: 0.6712\n",
            "Validation set: validation loss: 2.3323, validation accuracy: 0.4510\n",
            "\n",
            "Epoch: 37 / 50\n",
            "137/137 [==============================] - 140s 1s/step - loss: 1.2700 - train accuracy: 0.6820\n",
            "Validation set: validation loss: 2.2878, validation accuracy: 0.4635\n",
            "\n",
            "Epoch: 38 / 50\n",
            "137/137 [==============================] - 140s 1s/step - loss: 1.2090 - train accuracy: 0.6958\n",
            "Validation set: validation loss: 2.2871, validation accuracy: 0.4586\n",
            "\n",
            "Epoch: 39 / 50\n",
            "137/137 [==============================] - 140s 1s/step - loss: 1.1730 - train accuracy: 0.7053\n",
            "Validation set: validation loss: 2.2389, validation accuracy: 0.4676\n",
            "\n",
            "Epoch: 40 / 50\n",
            "137/137 [==============================] - 140s 1s/step - loss: 1.1270 - train accuracy: 0.7198\n",
            "Validation set: validation loss: 2.2489, validation accuracy: 0.4733\n",
            "\n",
            "Epoch: 41 / 50\n",
            "137/137 [==============================] - 140s 1s/step - loss: 1.1010 - train accuracy: 0.7326\n",
            "Validation set: validation loss: 2.2508, validation accuracy: 0.4713\n",
            "\n",
            "Epoch: 42 / 50\n",
            "137/137 [==============================] - 141s 1s/step - loss: 1.0400 - train accuracy: 0.7462\n",
            "Validation set: validation loss: 2.1749, validation accuracy: 0.4826\n",
            "\n",
            "Epoch: 43 / 50\n",
            "137/137 [==============================] - 140s 1s/step - loss: 0.9670 - train accuracy: 0.7590\n",
            "Validation set: validation loss: 2.2118, validation accuracy: 0.4775\n",
            "\n",
            "Epoch: 44 / 50\n",
            "137/137 [==============================] - 141s 1s/step - loss: 0.9350 - train accuracy: 0.7701\n",
            "Validation set: validation loss: 2.1635, validation accuracy: 0.4848\n",
            "\n",
            "Epoch: 45 / 50\n",
            "137/137 [==============================] - 141s 1s/step - loss: 0.8890 - train accuracy: 0.7843\n",
            "Validation set: validation loss: 2.1385, validation accuracy: 0.4926\n",
            "\n",
            "Epoch: 46 / 50\n",
            "137/137 [==============================] - 140s 1s/step - loss: 0.8510 - train accuracy: 0.7976\n",
            "Validation set: validation loss: 2.1385, validation accuracy: 0.4923\n",
            "\n",
            "Epoch: 47 / 50\n",
            "137/137 [==============================] - 140s 1s/step - loss: 0.8010 - train accuracy: 0.8127\n",
            "Validation set: validation loss: 2.1024, validation accuracy: 0.5006\n",
            "\n",
            "Epoch: 48 / 50\n",
            "137/137 [==============================] - 140s 1s/step - loss: 0.7740 - train accuracy: 0.8253\n",
            "Validation set: validation loss: 2.0939, validation accuracy: 0.5012\n",
            "\n",
            "Epoch: 49 / 50\n",
            "137/137 [==============================] - 140s 1s/step - loss: 0.7340 - train accuracy: 0.8359\n",
            "Validation set: validation loss: 2.0693, validation accuracy: 0.5045\n",
            "\n",
            "Epoch: 50 / 50\n",
            "137/137 [==============================] - 140s 1s/step - loss: 0.6850 - train accuracy: 0.8489\n",
            "Validation set: validation loss: 2.0554, validation accuracy: 0.5087\n",
            "\n"
          ],
          "name": "stdout"
        }
      ]
    },
    {
      "cell_type": "code",
      "metadata": {
        "id": "73c5mFkWU0X7",
        "outputId": "8215fc42-f200-44a8-8c8f-bec0a5f66174",
        "colab": {
          "base_uri": "https://localhost:8080/",
          "height": 607
        }
      },
      "source": [
        "exp.plot_scalars()"
      ],
      "execution_count": 18,
      "outputs": [
        {
          "output_type": "display_data",
          "data": {
            "image/png": "[encoded data removed]",
            "text/plain": [
              "<Figure size 1080x720 with 6 Axes>"
            ]
          },
          "metadata": {
            "tags": [],
            "needs_background": "light"
          }
        }
      ]
    },
    {
      "cell_type": "code",
      "metadata": {
        "id": "FOkbQCvMyhl8"
      },
      "source": [
        ""
      ],
      "execution_count": null,
      "outputs": []
    }
  ]
}