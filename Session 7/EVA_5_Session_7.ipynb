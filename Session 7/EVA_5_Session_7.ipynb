{
  "nbformat": 4,
  "nbformat_minor": 0,
  "metadata": {
    "colab": {
      "name": "EVA 5 Session 7.ipynb",
      "provenance": [],
      "collapsed_sections": []
    },
    "kernelspec": {
      "name": "python3",
      "display_name": "Python 3"
    },
    "accelerator": "GPU",
    "widgets": {
      "application/vnd.jupyter.widget-state+json": {
        "9cbad365bbd0484ca3f78fb25dc94422": {
          "model_module": "@jupyter-widgets/controls",
          "model_name": "HBoxModel",
          "state": {
            "_view_name": "HBoxView",
            "_dom_classes": [],
            "_model_name": "HBoxModel",
            "_view_module": "@jupyter-widgets/controls",
            "_model_module_version": "1.5.0",
            "_view_count": null,
            "_view_module_version": "1.5.0",
            "box_style": "",
            "layout": "IPY_MODEL_82f985ed5ddc4c76bfaa818b7affb276",
            "_model_module": "@jupyter-widgets/controls",
            "children": [
              "IPY_MODEL_5c87d67515ed4feaae2be4ddb8719762",
              "IPY_MODEL_9b8e0fe74b1041238e7e5b52dc7f5e0a"
            ]
          }
        },
        "82f985ed5ddc4c76bfaa818b7affb276": {
          "model_module": "@jupyter-widgets/base",
          "model_name": "LayoutModel",
          "state": {
            "_view_name": "LayoutView",
            "grid_template_rows": null,
            "right": null,
            "justify_content": null,
            "_view_module": "@jupyter-widgets/base",
            "overflow": null,
            "_model_module_version": "1.2.0",
            "_view_count": null,
            "flex_flow": null,
            "width": null,
            "min_width": null,
            "border": null,
            "align_items": null,
            "bottom": null,
            "_model_module": "@jupyter-widgets/base",
            "top": null,
            "grid_column": null,
            "overflow_y": null,
            "overflow_x": null,
            "grid_auto_flow": null,
            "grid_area": null,
            "grid_template_columns": null,
            "flex": null,
            "_model_name": "LayoutModel",
            "justify_items": null,
            "grid_row": null,
            "max_height": null,
            "align_content": null,
            "visibility": null,
            "align_self": null,
            "height": null,
            "min_height": null,
            "padding": null,
            "grid_auto_rows": null,
            "grid_gap": null,
            "max_width": null,
            "order": null,
            "_view_module_version": "1.2.0",
            "grid_template_areas": null,
            "object_position": null,
            "object_fit": null,
            "grid_auto_columns": null,
            "margin": null,
            "display": null,
            "left": null
          }
        },
        "5c87d67515ed4feaae2be4ddb8719762": {
          "model_module": "@jupyter-widgets/controls",
          "model_name": "FloatProgressModel",
          "state": {
            "_view_name": "ProgressView",
            "style": "IPY_MODEL_f2f0add84d0a46158cbea3f9a6dd73a4",
            "_dom_classes": [],
            "description": "",
            "_model_name": "FloatProgressModel",
            "bar_style": "info",
            "max": 1,
            "_view_module": "@jupyter-widgets/controls",
            "_model_module_version": "1.5.0",
            "value": 1,
            "_view_count": null,
            "_view_module_version": "1.5.0",
            "orientation": "horizontal",
            "min": 0,
            "description_tooltip": null,
            "_model_module": "@jupyter-widgets/controls",
            "layout": "IPY_MODEL_aa25d4da81634fddbec7272f117c1f31"
          }
        },
        "9b8e0fe74b1041238e7e5b52dc7f5e0a": {
          "model_module": "@jupyter-widgets/controls",
          "model_name": "HTMLModel",
          "state": {
            "_view_name": "HTMLView",
            "style": "IPY_MODEL_76f737b0b30a48028eec544b8709fd58",
            "_dom_classes": [],
            "description": "",
            "_model_name": "HTMLModel",
            "placeholder": "​",
            "_view_module": "@jupyter-widgets/controls",
            "_model_module_version": "1.5.0",
            "value": " 170500096/? [00:20&lt;00:00, 90633643.00it/s]",
            "_view_count": null,
            "_view_module_version": "1.5.0",
            "description_tooltip": null,
            "_model_module": "@jupyter-widgets/controls",
            "layout": "IPY_MODEL_df30824aa37a459d9c9d9ee1b6149615"
          }
        },
        "f2f0add84d0a46158cbea3f9a6dd73a4": {
          "model_module": "@jupyter-widgets/controls",
          "model_name": "ProgressStyleModel",
          "state": {
            "_view_name": "StyleView",
            "_model_name": "ProgressStyleModel",
            "description_width": "initial",
            "_view_module": "@jupyter-widgets/base",
            "_model_module_version": "1.5.0",
            "_view_count": null,
            "_view_module_version": "1.2.0",
            "bar_color": null,
            "_model_module": "@jupyter-widgets/controls"
          }
        },
        "aa25d4da81634fddbec7272f117c1f31": {
          "model_module": "@jupyter-widgets/base",
          "model_name": "LayoutModel",
          "state": {
            "_view_name": "LayoutView",
            "grid_template_rows": null,
            "right": null,
            "justify_content": null,
            "_view_module": "@jupyter-widgets/base",
            "overflow": null,
            "_model_module_version": "1.2.0",
            "_view_count": null,
            "flex_flow": null,
            "width": null,
            "min_width": null,
            "border": null,
            "align_items": null,
            "bottom": null,
            "_model_module": "@jupyter-widgets/base",
            "top": null,
            "grid_column": null,
            "overflow_y": null,
            "overflow_x": null,
            "grid_auto_flow": null,
            "grid_area": null,
            "grid_template_columns": null,
            "flex": null,
            "_model_name": "LayoutModel",
            "justify_items": null,
            "grid_row": null,
            "max_height": null,
            "align_content": null,
            "visibility": null,
            "align_self": null,
            "height": null,
            "min_height": null,
            "padding": null,
            "grid_auto_rows": null,
            "grid_gap": null,
            "max_width": null,
            "order": null,
            "_view_module_version": "1.2.0",
            "grid_template_areas": null,
            "object_position": null,
            "object_fit": null,
            "grid_auto_columns": null,
            "margin": null,
            "display": null,
            "left": null
          }
        },
        "76f737b0b30a48028eec544b8709fd58": {
          "model_module": "@jupyter-widgets/controls",
          "model_name": "DescriptionStyleModel",
          "state": {
            "_view_name": "StyleView",
            "_model_name": "DescriptionStyleModel",
            "description_width": "",
            "_view_module": "@jupyter-widgets/base",
            "_model_module_version": "1.5.0",
            "_view_count": null,
            "_view_module_version": "1.2.0",
            "_model_module": "@jupyter-widgets/controls"
          }
        },
        "df30824aa37a459d9c9d9ee1b6149615": {
          "model_module": "@jupyter-widgets/base",
          "model_name": "LayoutModel",
          "state": {
            "_view_name": "LayoutView",
            "grid_template_rows": null,
            "right": null,
            "justify_content": null,
            "_view_module": "@jupyter-widgets/base",
            "overflow": null,
            "_model_module_version": "1.2.0",
            "_view_count": null,
            "flex_flow": null,
            "width": null,
            "min_width": null,
            "border": null,
            "align_items": null,
            "bottom": null,
            "_model_module": "@jupyter-widgets/base",
            "top": null,
            "grid_column": null,
            "overflow_y": null,
            "overflow_x": null,
            "grid_auto_flow": null,
            "grid_area": null,
            "grid_template_columns": null,
            "flex": null,
            "_model_name": "LayoutModel",
            "justify_items": null,
            "grid_row": null,
            "max_height": null,
            "align_content": null,
            "visibility": null,
            "align_self": null,
            "height": null,
            "min_height": null,
            "padding": null,
            "grid_auto_rows": null,
            "grid_gap": null,
            "max_width": null,
            "order": null,
            "_view_module_version": "1.2.0",
            "grid_template_areas": null,
            "object_position": null,
            "object_fit": null,
            "grid_auto_columns": null,
            "margin": null,
            "display": null,
            "left": null
          }
        }
      }
    }
  },
  "cells": [
    {
      "cell_type": "code",
      "metadata": {
        "id": "IWQTEUL1r5Oe",
        "colab_type": "code",
        "colab": {
          "base_uri": "https://localhost:8080/",
          "height": 390
        },
        "outputId": "a14da62f-1032-4ac4-b74d-33bf8b3eec12"
      },
      "source": [
        "!pip install git+https://github.com/firekind/athena"
      ],
      "execution_count": 1,
      "outputs": [
        {
          "output_type": "stream",
          "text": [
            "Collecting git+https://github.com/firekind/athena\n",
            "  Cloning https://github.com/firekind/athena to /tmp/pip-req-build-aqhddlxl\n",
            "  Running command git clone -q https://github.com/firekind/athena /tmp/pip-req-build-aqhddlxl\n",
            "Collecting pkbar==0.4\n",
            "  Downloading https://files.pythonhosted.org/packages/e3/43/367098af2862f7b4e6aa871494ed3d66c57af849a5962a92baa2dd99b652/pkbar-0.4-py3-none-any.whl\n",
            "Requirement already satisfied: torchsummary in /usr/local/lib/python3.6/dist-packages (from athena==0.0.1) (1.5.1)\n",
            "Requirement already satisfied: tqdm in /usr/local/lib/python3.6/dist-packages (from athena==0.0.1) (4.41.1)\n",
            "Requirement already satisfied: matplotlib in /usr/local/lib/python3.6/dist-packages (from athena==0.0.1) (3.2.2)\n",
            "Requirement already satisfied: numpy in /usr/local/lib/python3.6/dist-packages (from pkbar==0.4->athena==0.0.1) (1.18.5)\n",
            "Requirement already satisfied: python-dateutil>=2.1 in /usr/local/lib/python3.6/dist-packages (from matplotlib->athena==0.0.1) (2.8.1)\n",
            "Requirement already satisfied: kiwisolver>=1.0.1 in /usr/local/lib/python3.6/dist-packages (from matplotlib->athena==0.0.1) (1.2.0)\n",
            "Requirement already satisfied: pyparsing!=2.0.4,!=2.1.2,!=2.1.6,>=2.0.1 in /usr/local/lib/python3.6/dist-packages (from matplotlib->athena==0.0.1) (2.4.7)\n",
            "Requirement already satisfied: cycler>=0.10 in /usr/local/lib/python3.6/dist-packages (from matplotlib->athena==0.0.1) (0.10.0)\n",
            "Requirement already satisfied: six>=1.5 in /usr/local/lib/python3.6/dist-packages (from python-dateutil>=2.1->matplotlib->athena==0.0.1) (1.15.0)\n",
            "Building wheels for collected packages: athena\n",
            "  Building wheel for athena (setup.py) ... \u001b[?25l\u001b[?25hdone\n",
            "  Created wheel for athena: filename=athena-0.0.1-cp36-none-any.whl size=21044 sha256=fac2f39298b3e8beb8fa9aa4d44fa447a9f9adc29f5f0fd951b84f7a374d58d4\n",
            "  Stored in directory: /tmp/pip-ephem-wheel-cache-95ms7cgb/wheels/36/d3/7b/d9500a9af2498abc5d48d60c7db37c1456ee745049da352e0b\n",
            "Successfully built athena\n",
            "Installing collected packages: pkbar, athena\n",
            "Successfully installed athena-0.0.1 pkbar-0.4\n"
          ],
          "name": "stdout"
        }
      ]
    },
    {
      "cell_type": "code",
      "metadata": {
        "id": "smZW07StsDZW",
        "colab_type": "code",
        "colab": {}
      },
      "source": [
        "%matplotlib inline"
      ],
      "execution_count": 2,
      "outputs": []
    },
    {
      "cell_type": "code",
      "metadata": {
        "id": "AR1I4S6rsF54",
        "colab_type": "code",
        "colab": {}
      },
      "source": [
        "from athena import Experiment, ClassificationSolver"
      ],
      "execution_count": 3,
      "outputs": []
    },
    {
      "cell_type": "code",
      "metadata": {
        "id": "zijb7LtdHsML",
        "colab_type": "code",
        "colab": {}
      },
      "source": [
        "## Importing My Model\n",
        "from athena.models import cifar10_v2"
      ],
      "execution_count": 4,
      "outputs": []
    },
    {
      "cell_type": "code",
      "metadata": {
        "id": "28-Ht-upsGZP",
        "colab_type": "code",
        "colab": {}
      },
      "source": [
        "import torch\n",
        "import torchvision\n",
        "import torchvision.transforms as transforms\n",
        "from torchsummary import summary"
      ],
      "execution_count": 5,
      "outputs": []
    },
    {
      "cell_type": "code",
      "metadata": {
        "id": "MgFCjlE5sI8I",
        "colab_type": "code",
        "colab": {
          "base_uri": "https://localhost:8080/",
          "height": 34
        },
        "outputId": "a546ea04-73ef-4a8c-d254-3d182ff39650"
      },
      "source": [
        "device = torch.device('cuda' if torch.cuda.is_available() else 'cpu')\n",
        "print(device)"
      ],
      "execution_count": 6,
      "outputs": [
        {
          "output_type": "stream",
          "text": [
            "cuda\n"
          ],
          "name": "stdout"
        }
      ]
    },
    {
      "cell_type": "code",
      "metadata": {
        "id": "fHPMxpcasKyo",
        "colab_type": "code",
        "colab": {
          "base_uri": "https://localhost:8080/",
          "height": 99,
          "referenced_widgets": [
            "9cbad365bbd0484ca3f78fb25dc94422",
            "82f985ed5ddc4c76bfaa818b7affb276",
            "5c87d67515ed4feaae2be4ddb8719762",
            "9b8e0fe74b1041238e7e5b52dc7f5e0a",
            "f2f0add84d0a46158cbea3f9a6dd73a4",
            "aa25d4da81634fddbec7272f117c1f31",
            "76f737b0b30a48028eec544b8709fd58",
            "df30824aa37a459d9c9d9ee1b6149615"
          ]
        },
        "outputId": "cecfaeec-38de-4b05-feff-6fe36944f1ef"
      },
      "source": [
        "transform = transforms.Compose(\n",
        "    [transforms.ToTensor(),\n",
        "     transforms.Normalize((0.4914, 0.4822, 0.4465), (0.2023, 0.1994, 0.2010))])\n",
        "\n",
        "trainset = torchvision.datasets.CIFAR10(root='./data', train=True,\n",
        "                                        download=True, transform=transform)\n",
        "trainloader = torch.utils.data.DataLoader(trainset, batch_size=32,\n",
        "                                          shuffle=True, num_workers=2)\n",
        "\n",
        "testset = torchvision.datasets.CIFAR10(root='./data', train=False,\n",
        "                                       download=True, transform=transform)\n",
        "testloader = torch.utils.data.DataLoader(testset, batch_size=32,\n",
        "                                         shuffle=False, num_workers=2)\n",
        "\n",
        "classes = ('plane', 'car', 'bird', 'cat',\n",
        "           'deer', 'dog', 'frog', 'horse', 'ship', 'truck')"
      ],
      "execution_count": 7,
      "outputs": [
        {
          "output_type": "stream",
          "text": [
            "Downloading https://www.cs.toronto.edu/~kriz/cifar-10-python.tar.gz to ./data/cifar-10-python.tar.gz\n"
          ],
          "name": "stdout"
        },
        {
          "output_type": "display_data",
          "data": {
            "application/vnd.jupyter.widget-view+json": {
              "model_id": "9cbad365bbd0484ca3f78fb25dc94422",
              "version_minor": 0,
              "version_major": 2
            },
            "text/plain": [
              "HBox(children=(FloatProgress(value=1.0, bar_style='info', max=1.0), HTML(value='')))"
            ]
          },
          "metadata": {
            "tags": []
          }
        },
        {
          "output_type": "stream",
          "text": [
            "Extracting ./data/cifar-10-python.tar.gz to ./data\n",
            "Files already downloaded and verified\n"
          ],
          "name": "stdout"
        }
      ]
    },
    {
      "cell_type": "code",
      "metadata": {
        "id": "Kb7_2GzisMYl",
        "colab_type": "code",
        "colab": {
          "base_uri": "https://localhost:8080/",
          "height": 1000
        },
        "outputId": "398985ed-6d9b-4d63-8471-04e801ca758f"
      },
      "source": [
        "net = cifar10_v2.Cifar10V2().to(device)\n",
        "summary(net, input_size=(3, 32, 32))"
      ],
      "execution_count": 9,
      "outputs": [
        {
          "output_type": "stream",
          "text": [
            "----------------------------------------------------------------\n",
            "        Layer (type)               Output Shape         Param #\n",
            "================================================================\n",
            "            Conv2d-1           [-1, 32, 32, 32]             864\n",
            "       BatchNorm2d-2           [-1, 32, 32, 32]              64\n",
            "              ReLU-3           [-1, 32, 32, 32]               0\n",
            "           Dropout-4           [-1, 32, 32, 32]               0\n",
            "            Conv2d-5           [-1, 32, 32, 32]             288\n",
            "            Conv2d-6           [-1, 32, 32, 32]           1,056\n",
            "       BatchNorm2d-7           [-1, 32, 32, 32]              64\n",
            "              ReLU-8           [-1, 32, 32, 32]               0\n",
            "           Dropout-9           [-1, 32, 32, 32]               0\n",
            "           Conv2d-10           [-1, 32, 32, 32]           9,216\n",
            "      BatchNorm2d-11           [-1, 32, 32, 32]              64\n",
            "             ReLU-12           [-1, 32, 32, 32]               0\n",
            "          Dropout-13           [-1, 32, 32, 32]               0\n",
            "           Conv2d-14           [-1, 32, 32, 32]             288\n",
            "           Conv2d-15           [-1, 32, 32, 32]           1,056\n",
            "      BatchNorm2d-16           [-1, 32, 32, 32]              64\n",
            "             ReLU-17           [-1, 32, 32, 32]               0\n",
            "          Dropout-18           [-1, 32, 32, 32]               0\n",
            "           Conv2d-19           [-1, 64, 16, 16]          18,432\n",
            "      BatchNorm2d-20           [-1, 64, 16, 16]             128\n",
            "             ReLU-21           [-1, 64, 16, 16]               0\n",
            "          Dropout-22           [-1, 64, 16, 16]               0\n",
            "           Conv2d-23           [-1, 64, 16, 16]             576\n",
            "           Conv2d-24           [-1, 64, 16, 16]           4,160\n",
            "      BatchNorm2d-25           [-1, 64, 16, 16]             128\n",
            "             ReLU-26           [-1, 64, 16, 16]               0\n",
            "          Dropout-27           [-1, 64, 16, 16]               0\n",
            "           Conv2d-28           [-1, 64, 16, 16]             576\n",
            "           Conv2d-29           [-1, 64, 16, 16]           4,160\n",
            "      BatchNorm2d-30           [-1, 64, 16, 16]             128\n",
            "             ReLU-31           [-1, 64, 16, 16]               0\n",
            "          Dropout-32           [-1, 64, 16, 16]               0\n",
            "           Conv2d-33           [-1, 64, 16, 16]             576\n",
            "           Conv2d-34           [-1, 64, 16, 16]           4,160\n",
            "      BatchNorm2d-35           [-1, 64, 16, 16]             128\n",
            "             ReLU-36           [-1, 64, 16, 16]               0\n",
            "          Dropout-37           [-1, 64, 16, 16]               0\n",
            "           Conv2d-38            [-1, 128, 8, 8]          73,728\n",
            "      BatchNorm2d-39            [-1, 128, 8, 8]             256\n",
            "             ReLU-40            [-1, 128, 8, 8]               0\n",
            "          Dropout-41            [-1, 128, 8, 8]               0\n",
            "           Conv2d-42            [-1, 128, 8, 8]           1,152\n",
            "           Conv2d-43            [-1, 128, 8, 8]          16,512\n",
            "      BatchNorm2d-44            [-1, 128, 8, 8]             256\n",
            "             ReLU-45            [-1, 128, 8, 8]               0\n",
            "          Dropout-46            [-1, 128, 8, 8]               0\n",
            "           Conv2d-47            [-1, 128, 8, 8]           1,152\n",
            "           Conv2d-48            [-1, 128, 8, 8]          16,512\n",
            "      BatchNorm2d-49            [-1, 128, 8, 8]             256\n",
            "             ReLU-50            [-1, 128, 8, 8]               0\n",
            "          Dropout-51            [-1, 128, 8, 8]               0\n",
            "           Conv2d-52            [-1, 128, 8, 8]           1,152\n",
            "           Conv2d-53            [-1, 128, 8, 8]          16,512\n",
            "      BatchNorm2d-54            [-1, 128, 8, 8]             256\n",
            "             ReLU-55            [-1, 128, 8, 8]               0\n",
            "          Dropout-56            [-1, 128, 8, 8]               0\n",
            "           Conv2d-57            [-1, 256, 8, 8]         294,912\n",
            "      BatchNorm2d-58            [-1, 256, 8, 8]             512\n",
            "             ReLU-59            [-1, 256, 8, 8]               0\n",
            "          Dropout-60            [-1, 256, 8, 8]               0\n",
            "           Conv2d-61            [-1, 256, 8, 8]           2,304\n",
            "           Conv2d-62            [-1, 256, 8, 8]          65,792\n",
            "      BatchNorm2d-63            [-1, 256, 8, 8]             512\n",
            "             ReLU-64            [-1, 256, 8, 8]               0\n",
            "          Dropout-65            [-1, 256, 8, 8]               0\n",
            "           Conv2d-66            [-1, 256, 8, 8]           2,304\n",
            "           Conv2d-67            [-1, 256, 8, 8]          65,792\n",
            "      BatchNorm2d-68            [-1, 256, 8, 8]             512\n",
            "             ReLU-69            [-1, 256, 8, 8]               0\n",
            "          Dropout-70            [-1, 256, 8, 8]               0\n",
            "           Conv2d-71            [-1, 256, 8, 8]           2,304\n",
            "           Conv2d-72            [-1, 256, 8, 8]          65,792\n",
            "      BatchNorm2d-73            [-1, 256, 8, 8]             512\n",
            "             ReLU-74            [-1, 256, 8, 8]               0\n",
            "          Dropout-75            [-1, 256, 8, 8]               0\n",
            "        AvgPool2d-76            [-1, 256, 1, 1]               0\n",
            "           Linear-77                   [-1, 10]           2,570\n",
            "================================================================\n",
            "Total params: 677,738\n",
            "Trainable params: 677,738\n",
            "Non-trainable params: 0\n",
            "----------------------------------------------------------------\n",
            "Input size (MB): 0.01\n",
            "Forward/backward pass size (MB): 10.44\n",
            "Params size (MB): 2.59\n",
            "Estimated Total Size (MB): 13.04\n",
            "----------------------------------------------------------------\n"
          ],
          "name": "stdout"
        }
      ]
    },
    {
      "cell_type": "code",
      "metadata": {
        "id": "_-gRcDklsUzg",
        "colab_type": "code",
        "colab": {}
      },
      "source": [
        "import torch.optim as optim\n",
        "import torch.nn as nn\n",
        "import torch.nn.functional as F\n",
        "from torch.optim.lr_scheduler import StepLR, OneCycleLR\n",
        "\n",
        "criterion = nn.CrossEntropyLoss()\n",
        "optimizer = optim.SGD(model.parameters(), lr=0.001, momentum=0.9)\n",
        "scheduler = StepLR(optimizer, step_size=8, gamma=0.1)"
      ],
      "execution_count": 9,
      "outputs": []
    },
    {
      "cell_type": "code",
      "metadata": {
        "id": "6dFjVRE2sbq0",
        "colab_type": "code",
        "colab": {}
      },
      "source": [
        "def l1_loss(l1_lambda):\n",
        "    def _l1_loss(y_pred, target):\n",
        "        loss = F.nll_loss(y_pred, target)\n",
        "        l1 = 0\n",
        "        for p in model.parameters():\n",
        "            l1 = l1 + p.abs().sum()\n",
        "        loss = loss + l1_lambda * l1\n",
        "        return loss\n",
        "\n",
        "    return _l1_loss"
      ],
      "execution_count": 10,
      "outputs": []
    },
    {
      "cell_type": "code",
      "metadata": {
        "id": "GY1Yfjknsdq5",
        "colab_type": "code",
        "colab": {
          "base_uri": "https://localhost:8080/",
          "height": 1000
        },
        "outputId": "ed4d26ab-c2af-4d2f-e6fd-19236782fb9b"
      },
      "source": [
        "l1_lambda = 5e-4\n",
        "exp = Experiment(\n",
        "    name=\"New Model\",\n",
        "    model=model,\n",
        "    solver_cls=ClassificationSolver,\n",
        "    train_args=dict(\n",
        "        epochs=50,\n",
        "        train_loader=trainloader,\n",
        "        test_loader=testloader,\n",
        "        optimizer=optimizer,\n",
        "        scheduler=scheduler,\n",
        "        device=device,\n",
        "        loss_fn=l1_loss(l1_lambda),\n",
        "    )\n",
        ")\n",
        "\n",
        "exp.run()"
      ],
      "execution_count": 11,
      "outputs": [
        {
          "output_type": "stream",
          "text": [
            "\u001b[1m\u001b[92m=> Running experiment: New Model\u001b[0m\n",
            "Epoch: 1 / 50\n",
            "1563/1563 [==============================] - 44s 28ms/step - loss: 9.2793 - accuracy: 27.8140\n",
            "Test set: Average loss: 9.4941, Accuracy: 3366/10000 (33.66%)\n",
            "\n",
            "Epoch: 2 / 50\n",
            "1563/1563 [==============================] - 43s 28ms/step - loss: 6.8643 - accuracy: 44.3760\n",
            "Test set: Average loss: 7.3521, Accuracy: 4935/10000 (49.35%)\n",
            "\n",
            "Epoch: 3 / 50\n",
            "1563/1563 [==============================] - 44s 28ms/step - loss: 5.8407 - accuracy: 54.0560\n",
            "Test set: Average loss: 5.8899, Accuracy: 5617/10000 (56.17%)\n",
            "\n",
            "Epoch: 4 / 50\n",
            "1563/1563 [==============================] - 44s 28ms/step - loss: 5.2328 - accuracy: 59.8400\n",
            "Test set: Average loss: 5.0300, Accuracy: 5901/10000 (59.01%)\n",
            "\n",
            "Epoch: 5 / 50\n",
            "1563/1563 [==============================] - 44s 28ms/step - loss: 4.2297 - accuracy: 62.8760\n",
            "Test set: Average loss: 4.2838, Accuracy: 6595/10000 (65.95%)\n",
            "\n",
            "Epoch: 6 / 50\n",
            "1563/1563 [==============================] - 44s 28ms/step - loss: 4.0412 - accuracy: 65.3380\n",
            "Test set: Average loss: 3.7885, Accuracy: 6886/10000 (68.86%)\n",
            "\n",
            "Epoch: 7 / 50\n",
            "1563/1563 [==============================] - 45s 29ms/step - loss: 3.3914 - accuracy: 67.2520\n",
            "Test set: Average loss: 3.5615, Accuracy: 6738/10000 (67.38%)\n",
            "\n",
            "Epoch: 8 / 50\n",
            "1563/1563 [==============================] - 45s 29ms/step - loss: 3.6070 - accuracy: 68.5540\n",
            "Test set: Average loss: 3.3293, Accuracy: 6953/10000 (69.53%)\n",
            "\n",
            "Epoch: 9 / 50\n",
            "1563/1563 [==============================] - 44s 28ms/step - loss: 2.9232 - accuracy: 75.1860\n",
            "Test set: Average loss: 2.9633, Accuracy: 7897/10000 (78.97%)\n",
            "\n",
            "Epoch: 10 / 50\n",
            "1563/1563 [==============================] - 46s 29ms/step - loss: 3.0492 - accuracy: 76.7700\n",
            "Test set: Average loss: 2.9010, Accuracy: 8005/10000 (80.05%)\n",
            "\n",
            "Epoch: 11 / 50\n",
            "1563/1563 [==============================] - 43s 28ms/step - loss: 2.8744 - accuracy: 77.1020\n",
            "Test set: Average loss: 2.8634, Accuracy: 7982/10000 (79.82%)\n",
            "\n",
            "Epoch: 12 / 50\n",
            "1563/1563 [==============================] - 43s 28ms/step - loss: 3.1870 - accuracy: 77.4800\n",
            "Test set: Average loss: 2.8194, Accuracy: 8050/10000 (80.50%)\n",
            "\n",
            "Epoch: 13 / 50\n",
            "1563/1563 [==============================] - 43s 28ms/step - loss: 2.6540 - accuracy: 77.9800\n",
            "Test set: Average loss: 2.7868, Accuracy: 8085/10000 (80.85%)\n",
            "\n",
            "Epoch: 14 / 50\n",
            "1563/1563 [==============================] - 44s 28ms/step - loss: 3.0573 - accuracy: 78.0640\n",
            "Test set: Average loss: 2.7700, Accuracy: 8082/10000 (80.82%)\n",
            "\n",
            "Epoch: 15 / 50\n",
            "1563/1563 [==============================] - 43s 28ms/step - loss: 3.3045 - accuracy: 78.2220\n",
            "Test set: Average loss: 2.7495, Accuracy: 8100/10000 (81.00%)\n",
            "\n",
            "Epoch: 16 / 50\n",
            "1563/1563 [==============================] - 43s 28ms/step - loss: 2.8771 - accuracy: 78.4640\n",
            "Test set: Average loss: 2.7510, Accuracy: 8028/10000 (80.28%)\n",
            "\n",
            "Epoch: 17 / 50\n",
            "1563/1563 [==============================] - 43s 28ms/step - loss: 2.8297 - accuracy: 79.6700\n",
            "Test set: Average loss: 2.6994, Accuracy: 8177/10000 (81.77%)\n",
            "\n",
            "Epoch: 18 / 50\n",
            "1563/1563 [==============================] - 43s 28ms/step - loss: 2.5333 - accuracy: 80.4880\n",
            "Test set: Average loss: 2.6912, Accuracy: 8184/10000 (81.84%)\n",
            "\n",
            "Epoch: 19 / 50\n",
            "1563/1563 [==============================] - 43s 28ms/step - loss: 2.9177 - accuracy: 80.5000\n",
            "Test set: Average loss: 2.6786, Accuracy: 8202/10000 (82.02%)\n",
            "\n",
            "Epoch: 20 / 50\n",
            "1563/1563 [==============================] - 44s 28ms/step - loss: 2.5335 - accuracy: 80.6660\n",
            "Test set: Average loss: 2.6635, Accuracy: 8232/10000 (82.32%)\n",
            "\n",
            "Epoch: 21 / 50\n",
            "1563/1563 [==============================] - 43s 28ms/step - loss: 2.7637 - accuracy: 80.8340\n",
            "Test set: Average loss: 2.6597, Accuracy: 8236/10000 (82.36%)\n",
            "\n",
            "Epoch: 22 / 50\n",
            "1563/1563 [==============================] - 43s 28ms/step - loss: 2.5850 - accuracy: 80.8040\n",
            "Test set: Average loss: 2.6574, Accuracy: 8224/10000 (82.24%)\n",
            "\n",
            "Epoch: 23 / 50\n",
            "1563/1563 [==============================] - 43s 28ms/step - loss: 2.6253 - accuracy: 80.8080\n",
            "Test set: Average loss: 2.6464, Accuracy: 8251/10000 (82.51%)\n",
            "\n",
            "Epoch: 24 / 50\n",
            "1563/1563 [==============================] - 43s 28ms/step - loss: 3.1522 - accuracy: 80.8880\n",
            "Test set: Average loss: 2.6410, Accuracy: 8258/10000 (82.58%)\n",
            "\n",
            "Epoch: 25 / 50\n",
            "1563/1563 [==============================] - 43s 28ms/step - loss: 2.6733 - accuracy: 81.0600\n",
            "Test set: Average loss: 2.6418, Accuracy: 8244/10000 (82.44%)\n",
            "\n",
            "Epoch: 26 / 50\n",
            "1563/1563 [==============================] - 43s 27ms/step - loss: 3.0471 - accuracy: 81.2380\n",
            "Test set: Average loss: 2.6356, Accuracy: 8249/10000 (82.49%)\n",
            "\n",
            "Epoch: 27 / 50\n",
            "1563/1563 [==============================] - 45s 29ms/step - loss: 2.5745 - accuracy: 81.6300\n",
            "Test set: Average loss: 2.6386, Accuracy: 8248/10000 (82.48%)\n",
            "\n",
            "Epoch: 28 / 50\n",
            "1563/1563 [==============================] - 45s 29ms/step - loss: 2.8885 - accuracy: 81.5440\n",
            "Test set: Average loss: 2.6313, Accuracy: 8282/10000 (82.82%)\n",
            "\n",
            "Epoch: 29 / 50\n",
            "1563/1563 [==============================] - 44s 28ms/step - loss: 2.8372 - accuracy: 81.4900\n",
            "Test set: Average loss: 2.6384, Accuracy: 8232/10000 (82.32%)\n",
            "\n",
            "Epoch: 30 / 50\n",
            "1563/1563 [==============================] - 44s 28ms/step - loss: 2.7484 - accuracy: 81.3280\n",
            "Test set: Average loss: 2.6352, Accuracy: 8272/10000 (82.72%)\n",
            "\n",
            "Epoch: 31 / 50\n",
            "1563/1563 [==============================] - 44s 28ms/step - loss: 2.8087 - accuracy: 81.2520\n",
            "Test set: Average loss: 2.6385, Accuracy: 8256/10000 (82.56%)\n",
            "\n",
            "Epoch: 32 / 50\n",
            "1563/1563 [==============================] - 44s 28ms/step - loss: 2.6286 - accuracy: 81.4580\n",
            "Test set: Average loss: 2.6425, Accuracy: 8229/10000 (82.29%)\n",
            "\n",
            "Epoch: 33 / 50\n",
            "1563/1563 [==============================] - 44s 28ms/step - loss: 2.8611 - accuracy: 81.3400\n",
            "Test set: Average loss: 2.6354, Accuracy: 8263/10000 (82.63%)\n",
            "\n",
            "Epoch: 34 / 50\n",
            "1563/1563 [==============================] - 44s 28ms/step - loss: 2.5863 - accuracy: 81.3300\n",
            "Test set: Average loss: 2.6348, Accuracy: 8258/10000 (82.58%)\n",
            "\n",
            "Epoch: 35 / 50\n",
            "1563/1563 [==============================] - 44s 28ms/step - loss: 2.7813 - accuracy: 81.5520\n",
            "Test set: Average loss: 2.6282, Accuracy: 8289/10000 (82.89%)\n",
            "\n",
            "Epoch: 36 / 50\n",
            "1563/1563 [==============================] - 44s 28ms/step - loss: 2.8290 - accuracy: 81.4340\n",
            "Test set: Average loss: 2.6283, Accuracy: 8277/10000 (82.77%)\n",
            "\n",
            "Epoch: 37 / 50\n",
            "1563/1563 [==============================] - 44s 28ms/step - loss: 2.7616 - accuracy: 81.4640\n",
            "Test set: Average loss: 2.6267, Accuracy: 8275/10000 (82.75%)\n",
            "\n",
            "Epoch: 38 / 50\n",
            "1563/1563 [==============================] - 44s 28ms/step - loss: 2.5016 - accuracy: 81.4240\n",
            "Test set: Average loss: 2.6396, Accuracy: 8222/10000 (82.22%)\n",
            "\n",
            "Epoch: 39 / 50\n",
            "1563/1563 [==============================] - 44s 28ms/step - loss: 3.0498 - accuracy: 81.4620\n",
            "Test set: Average loss: 2.6287, Accuracy: 8274/10000 (82.74%)\n",
            "\n",
            "Epoch: 40 / 50\n",
            "1563/1563 [==============================] - 44s 28ms/step - loss: 2.5869 - accuracy: 81.5740\n",
            "Test set: Average loss: 2.6407, Accuracy: 8236/10000 (82.36%)\n",
            "\n",
            "Epoch: 41 / 50\n",
            "1563/1563 [==============================] - 44s 28ms/step - loss: 2.6333 - accuracy: 81.5940\n",
            "Test set: Average loss: 2.6296, Accuracy: 8284/10000 (82.84%)\n",
            "\n",
            "Epoch: 42 / 50\n",
            "1563/1563 [==============================] - 44s 28ms/step - loss: 2.5538 - accuracy: 81.3160\n",
            "Test set: Average loss: 2.6320, Accuracy: 8257/10000 (82.57%)\n",
            "\n",
            "Epoch: 43 / 50\n",
            "1563/1563 [==============================] - 44s 28ms/step - loss: 2.6282 - accuracy: 81.1780\n",
            "Test set: Average loss: 2.6308, Accuracy: 8259/10000 (82.59%)\n",
            "\n",
            "Epoch: 44 / 50\n",
            "1563/1563 [==============================] - 44s 28ms/step - loss: 2.8212 - accuracy: 81.4200\n",
            "Test set: Average loss: 2.6315, Accuracy: 8263/10000 (82.63%)\n",
            "\n",
            "Epoch: 45 / 50\n",
            "1563/1563 [==============================] - 44s 28ms/step - loss: 2.8056 - accuracy: 81.4180\n",
            "Test set: Average loss: 2.6357, Accuracy: 8248/10000 (82.48%)\n",
            "\n",
            "Epoch: 46 / 50\n",
            "1563/1563 [==============================] - 44s 28ms/step - loss: 2.4857 - accuracy: 81.3180\n",
            "Test set: Average loss: 2.6436, Accuracy: 8219/10000 (82.19%)\n",
            "\n",
            "Epoch: 47 / 50\n",
            "1563/1563 [==============================] - 46s 30ms/step - loss: 2.5809 - accuracy: 81.2980\n",
            "Test set: Average loss: 2.6307, Accuracy: 8266/10000 (82.66%)\n",
            "\n",
            "Epoch: 48 / 50\n",
            "1563/1563 [==============================] - 47s 30ms/step - loss: 2.6140 - accuracy: 81.5560\n",
            "Test set: Average loss: 2.6267, Accuracy: 8283/10000 (82.83%)\n",
            "\n",
            "Epoch: 49 / 50\n",
            "1563/1563 [==============================] - 47s 30ms/step - loss: 2.5519 - accuracy: 81.7700\n",
            "Test set: Average loss: 2.6258, Accuracy: 8289/10000 (82.89%)\n",
            "\n",
            "Epoch: 50 / 50\n",
            "1563/1563 [==============================] - 46s 29ms/step - loss: 2.8191 - accuracy: 81.3540\n",
            "Test set: Average loss: 2.6276, Accuracy: 8276/10000 (82.76%)\n",
            "\n"
          ],
          "name": "stdout"
        }
      ]
    },
    {
      "cell_type": "code",
      "metadata": {
        "id": "vSwZvZlGswOK",
        "colab_type": "code",
        "colab": {}
      },
      "source": [
        ""
      ],
      "execution_count": null,
      "outputs": []
    }
  ]
}